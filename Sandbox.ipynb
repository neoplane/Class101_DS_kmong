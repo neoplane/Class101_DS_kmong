{
 "cells": [
  {
   "cell_type": "code",
   "execution_count": 71,
   "metadata": {
    "collapsed": true
   },
   "outputs": [],
   "source": [
    "import pandas as pd"
   ]
  },
  {
   "cell_type": "markdown",
   "source": [
    "Series -> 파이썬의 리스트"
   ],
   "metadata": {
    "collapsed": false,
    "pycharm": {
     "name": "#%% md\n"
    }
   }
  },
  {
   "cell_type": "code",
   "execution_count": 72,
   "outputs": [
    {
     "data": {
      "text/plain": "[1, 3, 5, 7, 9]"
     },
     "execution_count": 72,
     "metadata": {},
     "output_type": "execute_result"
    }
   ],
   "source": [
    "odd = [1, 3, 5, 7, 9]\n",
    "odd\n"
   ],
   "metadata": {
    "collapsed": false,
    "pycharm": {
     "name": "#%%\n"
    }
   }
  },
  {
   "cell_type": "code",
   "execution_count": 73,
   "outputs": [
    {
     "data": {
      "text/plain": "0    1\n1    3\n2    5\n3    7\n4    9\ndtype: int64"
     },
     "execution_count": 73,
     "metadata": {},
     "output_type": "execute_result"
    }
   ],
   "source": [
    "pd_odd = pd.Series(odd)\n",
    "pd_odd"
   ],
   "metadata": {
    "collapsed": false,
    "pycharm": {
     "name": "#%%\n"
    }
   }
  },
  {
   "cell_type": "code",
   "execution_count": 74,
   "outputs": [
    {
     "data": {
      "text/plain": "5.0"
     },
     "execution_count": 74,
     "metadata": {},
     "output_type": "execute_result"
    }
   ],
   "source": [
    "pd_odd.mean()"
   ],
   "metadata": {
    "collapsed": false,
    "pycharm": {
     "name": "#%%\n"
    }
   }
  },
  {
   "cell_type": "markdown",
   "source": [
    "DataFrame -> 표\n",
    "\n",
    "\n"
   ],
   "metadata": {
    "collapsed": false,
    "pycharm": {
     "name": "#%% md\n"
    }
   }
  },
  {
   "cell_type": "code",
   "execution_count": 75,
   "outputs": [
    {
     "data": {
      "text/plain": "   0  1  2\n0  1  2  3\n1  4  5  6\n2  7  8  9",
      "text/html": "<div>\n<style scoped>\n    .dataframe tbody tr th:only-of-type {\n        vertical-align: middle;\n    }\n\n    .dataframe tbody tr th {\n        vertical-align: top;\n    }\n\n    .dataframe thead th {\n        text-align: right;\n    }\n</style>\n<table border=\"1\" class=\"dataframe\">\n  <thead>\n    <tr style=\"text-align: right;\">\n      <th></th>\n      <th>0</th>\n      <th>1</th>\n      <th>2</th>\n    </tr>\n  </thead>\n  <tbody>\n    <tr>\n      <th>0</th>\n      <td>1</td>\n      <td>2</td>\n      <td>3</td>\n    </tr>\n    <tr>\n      <th>1</th>\n      <td>4</td>\n      <td>5</td>\n      <td>6</td>\n    </tr>\n    <tr>\n      <th>2</th>\n      <td>7</td>\n      <td>8</td>\n      <td>9</td>\n    </tr>\n  </tbody>\n</table>\n</div>"
     },
     "execution_count": 75,
     "metadata": {},
     "output_type": "execute_result"
    }
   ],
   "source": [
    "numbers = [\n",
    "    [1, 2, 3],\n",
    "    [4, 5, 6],\n",
    "    [7, 8, 9]\n",
    "]\n",
    "\n",
    "numbers = pd.DataFrame(numbers)\n",
    "numbers"
   ],
   "metadata": {
    "collapsed": false,
    "pycharm": {
     "name": "#%%\n"
    }
   }
  },
  {
   "cell_type": "code",
   "execution_count": 76,
   "outputs": [
    {
     "data": {
      "text/plain": "0    1\n1    4\n2    7\nName: 0, dtype: int64"
     },
     "execution_count": 76,
     "metadata": {},
     "output_type": "execute_result"
    }
   ],
   "source": [
    "numbers[0]"
   ],
   "metadata": {
    "collapsed": false,
    "pycharm": {
     "name": "#%%\n"
    }
   }
  },
  {
   "cell_type": "code",
   "execution_count": 77,
   "outputs": [
    {
     "data": {
      "text/plain": "pandas.core.frame.DataFrame"
     },
     "execution_count": 77,
     "metadata": {},
     "output_type": "execute_result"
    }
   ],
   "source": [
    "type(numbers)"
   ],
   "metadata": {
    "collapsed": false,
    "pycharm": {
     "name": "#%%\n"
    }
   }
  },
  {
   "cell_type": "code",
   "execution_count": 78,
   "outputs": [
    {
     "data": {
      "text/plain": "pandas.core.series.Series"
     },
     "execution_count": 78,
     "metadata": {},
     "output_type": "execute_result"
    }
   ],
   "source": [
    "type(numbers[0])"
   ],
   "metadata": {
    "collapsed": false,
    "pycharm": {
     "name": "#%%\n"
    }
   }
  },
  {
   "cell_type": "code",
   "execution_count": 79,
   "outputs": [
    {
     "data": {
      "text/plain": "pandas.core.series.Series"
     },
     "execution_count": 79,
     "metadata": {},
     "output_type": "execute_result"
    }
   ],
   "source": [
    "type(numbers.loc[0])"
   ],
   "metadata": {
    "collapsed": false,
    "pycharm": {
     "name": "#%%\n"
    }
   }
  },
  {
   "cell_type": "code",
   "execution_count": 80,
   "outputs": [
    {
     "data": {
      "text/plain": "0    1\n1    2\n2    3\nName: 0, dtype: int64"
     },
     "execution_count": 80,
     "metadata": {},
     "output_type": "execute_result"
    }
   ],
   "source": [
    "numbers.loc[0]"
   ],
   "metadata": {
    "collapsed": false,
    "pycharm": {
     "name": "#%%\n"
    }
   }
  },
  {
   "cell_type": "markdown",
   "source": [
    "Data Type"
   ],
   "metadata": {
    "collapsed": false,
    "pycharm": {
     "name": "#%% md\n"
    }
   }
  },
  {
   "cell_type": "code",
   "execution_count": 81,
   "outputs": [
    {
     "data": {
      "text/plain": "dtype('int64')"
     },
     "execution_count": 81,
     "metadata": {},
     "output_type": "execute_result"
    }
   ],
   "source": [
    "odd\n",
    "odd = pd.Series(odd)\n",
    "\n",
    "odd.dtype\n",
    "\n"
   ],
   "metadata": {
    "collapsed": false,
    "pycharm": {
     "name": "#%%\n"
    }
   }
  },
  {
   "cell_type": "code",
   "execution_count": 82,
   "outputs": [],
   "source": [
    "import numpy as np\n",
    "\n",
    "odd = [1, 3, 5, 7, 9]\n",
    "\n",
    "\n"
   ],
   "metadata": {
    "collapsed": false,
    "pycharm": {
     "name": "#%%\n"
    }
   }
  },
  {
   "cell_type": "markdown",
   "source": [
    " # DataFrame\n",
    "\n"
   ],
   "metadata": {
    "collapsed": false,
    "pycharm": {
     "name": "#%% md\n"
    }
   }
  },
  {
   "cell_type": "code",
   "execution_count": 83,
   "outputs": [
    {
     "data": {
      "text/plain": "    user_id  product_id        date  price  address      state\nid                                                            \n1         3           9  2017-01-01    500    Seoul  confirmed\n2         1           7  2017-01-03    700    Seoul  confirmed\n3         3           8  2017-01-03    900  Daejeon  confirmed\n4         4           2  2017-01-07    500      NaN   canceled\n5         7           3  2017-01-09    700  Incheon  confirmed\n6         5           7  2017-01-09    600    Busan   canceled\n7         2           5  2017-01-10    200      NaN   canceled",
      "text/html": "<div>\n<style scoped>\n    .dataframe tbody tr th:only-of-type {\n        vertical-align: middle;\n    }\n\n    .dataframe tbody tr th {\n        vertical-align: top;\n    }\n\n    .dataframe thead th {\n        text-align: right;\n    }\n</style>\n<table border=\"1\" class=\"dataframe\">\n  <thead>\n    <tr style=\"text-align: right;\">\n      <th></th>\n      <th>user_id</th>\n      <th>product_id</th>\n      <th>date</th>\n      <th>price</th>\n      <th>address</th>\n      <th>state</th>\n    </tr>\n    <tr>\n      <th>id</th>\n      <th></th>\n      <th></th>\n      <th></th>\n      <th></th>\n      <th></th>\n      <th></th>\n    </tr>\n  </thead>\n  <tbody>\n    <tr>\n      <th>1</th>\n      <td>3</td>\n      <td>9</td>\n      <td>2017-01-01</td>\n      <td>500</td>\n      <td>Seoul</td>\n      <td>confirmed</td>\n    </tr>\n    <tr>\n      <th>2</th>\n      <td>1</td>\n      <td>7</td>\n      <td>2017-01-03</td>\n      <td>700</td>\n      <td>Seoul</td>\n      <td>confirmed</td>\n    </tr>\n    <tr>\n      <th>3</th>\n      <td>3</td>\n      <td>8</td>\n      <td>2017-01-03</td>\n      <td>900</td>\n      <td>Daejeon</td>\n      <td>confirmed</td>\n    </tr>\n    <tr>\n      <th>4</th>\n      <td>4</td>\n      <td>2</td>\n      <td>2017-01-07</td>\n      <td>500</td>\n      <td>NaN</td>\n      <td>canceled</td>\n    </tr>\n    <tr>\n      <th>5</th>\n      <td>7</td>\n      <td>3</td>\n      <td>2017-01-09</td>\n      <td>700</td>\n      <td>Incheon</td>\n      <td>confirmed</td>\n    </tr>\n    <tr>\n      <th>6</th>\n      <td>5</td>\n      <td>7</td>\n      <td>2017-01-09</td>\n      <td>600</td>\n      <td>Busan</td>\n      <td>canceled</td>\n    </tr>\n    <tr>\n      <th>7</th>\n      <td>2</td>\n      <td>5</td>\n      <td>2017-01-10</td>\n      <td>200</td>\n      <td>NaN</td>\n      <td>canceled</td>\n    </tr>\n  </tbody>\n</table>\n</div>"
     },
     "execution_count": 83,
     "metadata": {},
     "output_type": "execute_result"
    }
   ],
   "source": [
    "order = pd.read_csv('order.csv', index_col= \"id\")\n",
    "\n",
    "order"
   ],
   "metadata": {
    "collapsed": false,
    "pycharm": {
     "name": "#%%\n"
    }
   }
  },
  {
   "cell_type": "code",
   "execution_count": 84,
   "outputs": [
    {
     "data": {
      "text/plain": "Int64Index([1, 2, 3, 4, 5, 6, 7], dtype='int64', name='id')"
     },
     "execution_count": 84,
     "metadata": {},
     "output_type": "execute_result"
    }
   ],
   "source": [
    "order.index"
   ],
   "metadata": {
    "collapsed": false,
    "pycharm": {
     "name": "#%%\n"
    }
   }
  },
  {
   "cell_type": "code",
   "execution_count": 85,
   "outputs": [
    {
     "data": {
      "text/plain": "Index(['user_id', 'product_id', 'date', 'price', 'address', 'state'], dtype='object')"
     },
     "execution_count": 85,
     "metadata": {},
     "output_type": "execute_result"
    }
   ],
   "source": [
    "order.columns"
   ],
   "metadata": {
    "collapsed": false,
    "pycharm": {
     "name": "#%%\n"
    }
   }
  },
  {
   "cell_type": "code",
   "execution_count": 86,
   "outputs": [
    {
     "data": {
      "text/plain": "array([[3, 9, '2017-01-01', 500, 'Seoul', 'confirmed'],\n       [1, 7, '2017-01-03', 700, 'Seoul', 'confirmed'],\n       [3, 8, '2017-01-03', 900, 'Daejeon', 'confirmed'],\n       [4, 2, '2017-01-07', 500, nan, 'canceled'],\n       [7, 3, '2017-01-09', 700, 'Incheon', 'confirmed'],\n       [5, 7, '2017-01-09', 600, 'Busan', 'canceled'],\n       [2, 5, '2017-01-10', 200, nan, 'canceled']], dtype=object)"
     },
     "execution_count": 86,
     "metadata": {},
     "output_type": "execute_result"
    }
   ],
   "source": [
    "order.values"
   ],
   "metadata": {
    "collapsed": false,
    "pycharm": {
     "name": "#%%\n"
    }
   }
  },
  {
   "cell_type": "markdown",
   "source": [
    "## 기본 연산\n",
    "\n"
   ],
   "metadata": {
    "collapsed": false,
    "pycharm": {
     "name": "#%% md\n"
    }
   }
  },
  {
   "cell_type": "code",
   "execution_count": 87,
   "outputs": [
    {
     "data": {
      "text/plain": "585.7142857142857"
     },
     "execution_count": 87,
     "metadata": {},
     "output_type": "execute_result"
    }
   ],
   "source": [
    "order['price'].mean()"
   ],
   "metadata": {
    "collapsed": false,
    "pycharm": {
     "name": "#%%\n"
    }
   }
  },
  {
   "cell_type": "code",
   "execution_count": 88,
   "outputs": [
    {
     "data": {
      "text/plain": "900"
     },
     "execution_count": 88,
     "metadata": {},
     "output_type": "execute_result"
    }
   ],
   "source": [
    "order['price'].max()\n",
    "\n"
   ],
   "metadata": {
    "collapsed": false,
    "pycharm": {
     "name": "#%%\n"
    }
   }
  },
  {
   "cell_type": "code",
   "execution_count": 89,
   "outputs": [
    {
     "data": {
      "text/plain": "200"
     },
     "execution_count": 89,
     "metadata": {},
     "output_type": "execute_result"
    }
   ],
   "source": [
    "order['price'].min()"
   ],
   "metadata": {
    "collapsed": false,
    "pycharm": {
     "name": "#%%\n"
    }
   }
  },
  {
   "cell_type": "code",
   "execution_count": 90,
   "outputs": [
    {
     "data": {
      "text/plain": "count      7.000000\nmean     585.714286\nstd      219.306266\nmin      200.000000\n25%      500.000000\n50%      600.000000\n75%      700.000000\nmax      900.000000\nName: price, dtype: float64"
     },
     "execution_count": 90,
     "metadata": {},
     "output_type": "execute_result"
    }
   ],
   "source": [
    "order['price'].describe()"
   ],
   "metadata": {
    "collapsed": false,
    "pycharm": {
     "name": "#%%\n"
    }
   }
  },
  {
   "cell_type": "code",
   "execution_count": 91,
   "outputs": [
    {
     "data": {
      "text/plain": "id\n1    confirmed\n2    confirmed\n3    confirmed\n4     canceled\n5    confirmed\n6     canceled\n7     canceled\nName: state, dtype: object"
     },
     "execution_count": 91,
     "metadata": {},
     "output_type": "execute_result"
    }
   ],
   "source": [
    "order['state']"
   ],
   "metadata": {
    "collapsed": false,
    "pycharm": {
     "name": "#%%\n"
    }
   }
  },
  {
   "cell_type": "code",
   "execution_count": 92,
   "outputs": [
    {
     "data": {
      "text/plain": "array(['confirmed', 'canceled'], dtype=object)"
     },
     "execution_count": 92,
     "metadata": {},
     "output_type": "execute_result"
    }
   ],
   "source": [
    "order['state'].unique()\n",
    "\n"
   ],
   "metadata": {
    "collapsed": false,
    "pycharm": {
     "name": "#%%\n"
    }
   }
  },
  {
   "cell_type": "code",
   "execution_count": 93,
   "outputs": [
    {
     "data": {
      "text/plain": "confirmed    4\ncanceled     3\nName: state, dtype: int64"
     },
     "execution_count": 93,
     "metadata": {},
     "output_type": "execute_result"
    }
   ],
   "source": [
    "order['state'].value_counts()"
   ],
   "metadata": {
    "collapsed": false,
    "pycharm": {
     "name": "#%%\n"
    }
   }
  },
  {
   "cell_type": "code",
   "execution_count": 94,
   "outputs": [
    {
     "data": {
      "text/plain": "confirmed    0.571429\ncanceled     0.428571\nName: state, dtype: float64"
     },
     "execution_count": 94,
     "metadata": {},
     "output_type": "execute_result"
    }
   ],
   "source": [
    "order['state'].value_counts(normalize = True)\n"
   ],
   "metadata": {
    "collapsed": false,
    "pycharm": {
     "name": "#%%\n"
    }
   }
  },
  {
   "cell_type": "code",
   "execution_count": 95,
   "outputs": [],
   "source": [
    "order['state'] = order['state'].replace('confirmed', 'confirm')"
   ],
   "metadata": {
    "collapsed": false,
    "pycharm": {
     "name": "#%%\n"
    }
   }
  },
  {
   "cell_type": "code",
   "execution_count": 96,
   "outputs": [],
   "source": [
    "order['state'] = order['state'].replace('canceled', 'cancel')"
   ],
   "metadata": {
    "collapsed": false,
    "pycharm": {
     "name": "#%%\n"
    }
   }
  },
  {
   "cell_type": "code",
   "execution_count": 97,
   "outputs": [
    {
     "data": {
      "text/plain": "    user_id  product_id        date  price  address    state\nid                                                          \n1         3           9  2017-01-01    500    Seoul  confirm\n2         1           7  2017-01-03    700    Seoul  confirm\n3         3           8  2017-01-03    900  Daejeon  confirm\n4         4           2  2017-01-07    500      NaN   cancel\n5         7           3  2017-01-09    700  Incheon  confirm\n6         5           7  2017-01-09    600    Busan   cancel\n7         2           5  2017-01-10    200      NaN   cancel",
      "text/html": "<div>\n<style scoped>\n    .dataframe tbody tr th:only-of-type {\n        vertical-align: middle;\n    }\n\n    .dataframe tbody tr th {\n        vertical-align: top;\n    }\n\n    .dataframe thead th {\n        text-align: right;\n    }\n</style>\n<table border=\"1\" class=\"dataframe\">\n  <thead>\n    <tr style=\"text-align: right;\">\n      <th></th>\n      <th>user_id</th>\n      <th>product_id</th>\n      <th>date</th>\n      <th>price</th>\n      <th>address</th>\n      <th>state</th>\n    </tr>\n    <tr>\n      <th>id</th>\n      <th></th>\n      <th></th>\n      <th></th>\n      <th></th>\n      <th></th>\n      <th></th>\n    </tr>\n  </thead>\n  <tbody>\n    <tr>\n      <th>1</th>\n      <td>3</td>\n      <td>9</td>\n      <td>2017-01-01</td>\n      <td>500</td>\n      <td>Seoul</td>\n      <td>confirm</td>\n    </tr>\n    <tr>\n      <th>2</th>\n      <td>1</td>\n      <td>7</td>\n      <td>2017-01-03</td>\n      <td>700</td>\n      <td>Seoul</td>\n      <td>confirm</td>\n    </tr>\n    <tr>\n      <th>3</th>\n      <td>3</td>\n      <td>8</td>\n      <td>2017-01-03</td>\n      <td>900</td>\n      <td>Daejeon</td>\n      <td>confirm</td>\n    </tr>\n    <tr>\n      <th>4</th>\n      <td>4</td>\n      <td>2</td>\n      <td>2017-01-07</td>\n      <td>500</td>\n      <td>NaN</td>\n      <td>cancel</td>\n    </tr>\n    <tr>\n      <th>5</th>\n      <td>7</td>\n      <td>3</td>\n      <td>2017-01-09</td>\n      <td>700</td>\n      <td>Incheon</td>\n      <td>confirm</td>\n    </tr>\n    <tr>\n      <th>6</th>\n      <td>5</td>\n      <td>7</td>\n      <td>2017-01-09</td>\n      <td>600</td>\n      <td>Busan</td>\n      <td>cancel</td>\n    </tr>\n    <tr>\n      <th>7</th>\n      <td>2</td>\n      <td>5</td>\n      <td>2017-01-10</td>\n      <td>200</td>\n      <td>NaN</td>\n      <td>cancel</td>\n    </tr>\n  </tbody>\n</table>\n</div>"
     },
     "execution_count": 97,
     "metadata": {},
     "output_type": "execute_result"
    }
   ],
   "source": [
    "order"
   ],
   "metadata": {
    "collapsed": false,
    "pycharm": {
     "name": "#%%\n"
    }
   }
  },
  {
   "cell_type": "code",
   "execution_count": 98,
   "outputs": [],
   "source": [
    "order['date'] = pd.to_datetime(order['date'])"
   ],
   "metadata": {
    "collapsed": false,
    "pycharm": {
     "name": "#%%\n"
    }
   }
  },
  {
   "cell_type": "code",
   "execution_count": 99,
   "outputs": [
    {
     "data": {
      "text/plain": "id\n1   2017-01-01\n2   2017-01-03\n3   2017-01-03\n4   2017-01-07\n5   2017-01-09\n6   2017-01-09\n7   2017-01-10\nName: date, dtype: datetime64[ns]"
     },
     "execution_count": 99,
     "metadata": {},
     "output_type": "execute_result"
    }
   ],
   "source": [
    "order['date']"
   ],
   "metadata": {
    "collapsed": false,
    "pycharm": {
     "name": "#%%\n"
    }
   }
  },
  {
   "cell_type": "markdown",
   "source": [
    "\n",
    "## 행렬 검색하기"
   ],
   "metadata": {
    "collapsed": false,
    "pycharm": {
     "name": "#%% md\n"
    }
   }
  },
  {
   "cell_type": "code",
   "execution_count": 100,
   "outputs": [
    {
     "data": {
      "text/plain": "    user_id  product_id       date  price  address    state\nid                                                         \n1         3           9 2017-01-01    500    Seoul  confirm\n2         1           7 2017-01-03    700    Seoul  confirm\n3         3           8 2017-01-03    900  Daejeon  confirm\n4         4           2 2017-01-07    500      NaN   cancel\n5         7           3 2017-01-09    700  Incheon  confirm\n6         5           7 2017-01-09    600    Busan   cancel\n7         2           5 2017-01-10    200      NaN   cancel",
      "text/html": "<div>\n<style scoped>\n    .dataframe tbody tr th:only-of-type {\n        vertical-align: middle;\n    }\n\n    .dataframe tbody tr th {\n        vertical-align: top;\n    }\n\n    .dataframe thead th {\n        text-align: right;\n    }\n</style>\n<table border=\"1\" class=\"dataframe\">\n  <thead>\n    <tr style=\"text-align: right;\">\n      <th></th>\n      <th>user_id</th>\n      <th>product_id</th>\n      <th>date</th>\n      <th>price</th>\n      <th>address</th>\n      <th>state</th>\n    </tr>\n    <tr>\n      <th>id</th>\n      <th></th>\n      <th></th>\n      <th></th>\n      <th></th>\n      <th></th>\n      <th></th>\n    </tr>\n  </thead>\n  <tbody>\n    <tr>\n      <th>1</th>\n      <td>3</td>\n      <td>9</td>\n      <td>2017-01-01</td>\n      <td>500</td>\n      <td>Seoul</td>\n      <td>confirm</td>\n    </tr>\n    <tr>\n      <th>2</th>\n      <td>1</td>\n      <td>7</td>\n      <td>2017-01-03</td>\n      <td>700</td>\n      <td>Seoul</td>\n      <td>confirm</td>\n    </tr>\n    <tr>\n      <th>3</th>\n      <td>3</td>\n      <td>8</td>\n      <td>2017-01-03</td>\n      <td>900</td>\n      <td>Daejeon</td>\n      <td>confirm</td>\n    </tr>\n    <tr>\n      <th>4</th>\n      <td>4</td>\n      <td>2</td>\n      <td>2017-01-07</td>\n      <td>500</td>\n      <td>NaN</td>\n      <td>cancel</td>\n    </tr>\n    <tr>\n      <th>5</th>\n      <td>7</td>\n      <td>3</td>\n      <td>2017-01-09</td>\n      <td>700</td>\n      <td>Incheon</td>\n      <td>confirm</td>\n    </tr>\n    <tr>\n      <th>6</th>\n      <td>5</td>\n      <td>7</td>\n      <td>2017-01-09</td>\n      <td>600</td>\n      <td>Busan</td>\n      <td>cancel</td>\n    </tr>\n    <tr>\n      <th>7</th>\n      <td>2</td>\n      <td>5</td>\n      <td>2017-01-10</td>\n      <td>200</td>\n      <td>NaN</td>\n      <td>cancel</td>\n    </tr>\n  </tbody>\n</table>\n</div>"
     },
     "execution_count": 100,
     "metadata": {},
     "output_type": "execute_result"
    }
   ],
   "source": [
    "order"
   ],
   "metadata": {
    "collapsed": false,
    "pycharm": {
     "name": "#%%\n"
    }
   }
  },
  {
   "cell_type": "code",
   "execution_count": 101,
   "outputs": [
    {
     "data": {
      "text/plain": "    user_id       date  price\nid                           \n1         3 2017-01-01    500\n2         1 2017-01-03    700\n3         3 2017-01-03    900\n4         4 2017-01-07    500\n5         7 2017-01-09    700\n6         5 2017-01-09    600\n7         2 2017-01-10    200",
      "text/html": "<div>\n<style scoped>\n    .dataframe tbody tr th:only-of-type {\n        vertical-align: middle;\n    }\n\n    .dataframe tbody tr th {\n        vertical-align: top;\n    }\n\n    .dataframe thead th {\n        text-align: right;\n    }\n</style>\n<table border=\"1\" class=\"dataframe\">\n  <thead>\n    <tr style=\"text-align: right;\">\n      <th></th>\n      <th>user_id</th>\n      <th>date</th>\n      <th>price</th>\n    </tr>\n    <tr>\n      <th>id</th>\n      <th></th>\n      <th></th>\n      <th></th>\n    </tr>\n  </thead>\n  <tbody>\n    <tr>\n      <th>1</th>\n      <td>3</td>\n      <td>2017-01-01</td>\n      <td>500</td>\n    </tr>\n    <tr>\n      <th>2</th>\n      <td>1</td>\n      <td>2017-01-03</td>\n      <td>700</td>\n    </tr>\n    <tr>\n      <th>3</th>\n      <td>3</td>\n      <td>2017-01-03</td>\n      <td>900</td>\n    </tr>\n    <tr>\n      <th>4</th>\n      <td>4</td>\n      <td>2017-01-07</td>\n      <td>500</td>\n    </tr>\n    <tr>\n      <th>5</th>\n      <td>7</td>\n      <td>2017-01-09</td>\n      <td>700</td>\n    </tr>\n    <tr>\n      <th>6</th>\n      <td>5</td>\n      <td>2017-01-09</td>\n      <td>600</td>\n    </tr>\n    <tr>\n      <th>7</th>\n      <td>2</td>\n      <td>2017-01-10</td>\n      <td>200</td>\n    </tr>\n  </tbody>\n</table>\n</div>"
     },
     "execution_count": 101,
     "metadata": {},
     "output_type": "execute_result"
    }
   ],
   "source": [
    "order[['user_id', 'date', 'price']]"
   ],
   "metadata": {
    "collapsed": false,
    "pycharm": {
     "name": "#%%\n"
    }
   }
  },
  {
   "cell_type": "code",
   "execution_count": 102,
   "outputs": [
    {
     "data": {
      "text/plain": "    user_id  product_id       date  price  address    state\nid                                                         \n1         3           9 2017-01-01    500    Seoul  confirm\n3         3           8 2017-01-03    900  Daejeon  confirm\n7         2           5 2017-01-10    200      NaN   cancel",
      "text/html": "<div>\n<style scoped>\n    .dataframe tbody tr th:only-of-type {\n        vertical-align: middle;\n    }\n\n    .dataframe tbody tr th {\n        vertical-align: top;\n    }\n\n    .dataframe thead th {\n        text-align: right;\n    }\n</style>\n<table border=\"1\" class=\"dataframe\">\n  <thead>\n    <tr style=\"text-align: right;\">\n      <th></th>\n      <th>user_id</th>\n      <th>product_id</th>\n      <th>date</th>\n      <th>price</th>\n      <th>address</th>\n      <th>state</th>\n    </tr>\n    <tr>\n      <th>id</th>\n      <th></th>\n      <th></th>\n      <th></th>\n      <th></th>\n      <th></th>\n      <th></th>\n    </tr>\n  </thead>\n  <tbody>\n    <tr>\n      <th>1</th>\n      <td>3</td>\n      <td>9</td>\n      <td>2017-01-01</td>\n      <td>500</td>\n      <td>Seoul</td>\n      <td>confirm</td>\n    </tr>\n    <tr>\n      <th>3</th>\n      <td>3</td>\n      <td>8</td>\n      <td>2017-01-03</td>\n      <td>900</td>\n      <td>Daejeon</td>\n      <td>confirm</td>\n    </tr>\n    <tr>\n      <th>7</th>\n      <td>2</td>\n      <td>5</td>\n      <td>2017-01-10</td>\n      <td>200</td>\n      <td>NaN</td>\n      <td>cancel</td>\n    </tr>\n  </tbody>\n</table>\n</div>"
     },
     "execution_count": 102,
     "metadata": {},
     "output_type": "execute_result"
    }
   ],
   "source": [
    "order.loc[[1, 3, 7]]"
   ],
   "metadata": {
    "collapsed": false,
    "pycharm": {
     "name": "#%%\n"
    }
   }
  },
  {
   "cell_type": "code",
   "execution_count": 103,
   "outputs": [
    {
     "data": {
      "text/plain": "Timestamp('2017-01-01 00:00:00')"
     },
     "execution_count": 103,
     "metadata": {},
     "output_type": "execute_result"
    }
   ],
   "source": [
    "order.loc[1]['date']"
   ],
   "metadata": {
    "collapsed": false,
    "pycharm": {
     "name": "#%%\n"
    }
   }
  },
  {
   "cell_type": "code",
   "execution_count": 104,
   "outputs": [
    {
     "data": {
      "text/plain": "Timestamp('2017-01-01 00:00:00')"
     },
     "execution_count": 104,
     "metadata": {},
     "output_type": "execute_result"
    }
   ],
   "source": [
    "order.loc[1, 'date']"
   ],
   "metadata": {
    "collapsed": false,
    "pycharm": {
     "name": "#%%\n"
    }
   }
  },
  {
   "cell_type": "code",
   "execution_count": 105,
   "outputs": [
    {
     "name": "stdout",
     "output_type": "stream",
     "text": [
      "135 µs ± 5.55 µs per loop (mean ± std. dev. of 7 runs, 10000 loops each)\n"
     ]
    }
   ],
   "source": [
    "%timeit order.loc[1],['date']"
   ],
   "metadata": {
    "collapsed": false,
    "pycharm": {
     "name": "#%%\n"
    }
   }
  },
  {
   "cell_type": "code",
   "execution_count": 106,
   "outputs": [
    {
     "name": "stdout",
     "output_type": "stream",
     "text": [
      "16.1 µs ± 3.05 µs per loop (mean ± std. dev. of 7 runs, 100000 loops each)\n"
     ]
    }
   ],
   "source": [
    "%timeit order.loc[1, 'date']"
   ],
   "metadata": {
    "collapsed": false,
    "pycharm": {
     "name": "#%%\n"
    }
   }
  },
  {
   "cell_type": "code",
   "execution_count": 107,
   "outputs": [
    {
     "name": "stdout",
     "output_type": "stream",
     "text": [
      "10 µs ± 93.9 ns per loop (mean ± std. dev. of 7 runs, 100000 loops each)\n"
     ]
    }
   ],
   "source": [
    "%timeit order.at[1, 'date']"
   ],
   "metadata": {
    "collapsed": false,
    "pycharm": {
     "name": "#%%\n"
    }
   }
  },
  {
   "cell_type": "code",
   "execution_count": 108,
   "outputs": [
    {
     "data": {
      "text/plain": "id\n1   2017-01-01\n2   2017-01-03\n3   2017-01-03\n4   2017-01-07\n5   2017-01-09\n6   2017-01-09\n7   2017-01-10\nName: date, dtype: datetime64[ns]"
     },
     "execution_count": 108,
     "metadata": {},
     "output_type": "execute_result"
    }
   ],
   "source": [
    "order['date']"
   ],
   "metadata": {
    "collapsed": false,
    "pycharm": {
     "name": "#%%\n"
    }
   }
  },
  {
   "cell_type": "code",
   "execution_count": 109,
   "outputs": [],
   "source": [
    "date_candidate = ['2017-01-01', '2017-01-05', '2017-01-09']"
   ],
   "metadata": {
    "collapsed": false,
    "pycharm": {
     "name": "#%%\n"
    }
   }
  },
  {
   "cell_type": "code",
   "execution_count": 110,
   "outputs": [
    {
     "data": {
      "text/plain": "    user_id  product_id       date  price  address    state\nid                                                         \n1         3           9 2017-01-01    500    Seoul  confirm\n5         7           3 2017-01-09    700  Incheon  confirm\n6         5           7 2017-01-09    600    Busan   cancel",
      "text/html": "<div>\n<style scoped>\n    .dataframe tbody tr th:only-of-type {\n        vertical-align: middle;\n    }\n\n    .dataframe tbody tr th {\n        vertical-align: top;\n    }\n\n    .dataframe thead th {\n        text-align: right;\n    }\n</style>\n<table border=\"1\" class=\"dataframe\">\n  <thead>\n    <tr style=\"text-align: right;\">\n      <th></th>\n      <th>user_id</th>\n      <th>product_id</th>\n      <th>date</th>\n      <th>price</th>\n      <th>address</th>\n      <th>state</th>\n    </tr>\n    <tr>\n      <th>id</th>\n      <th></th>\n      <th></th>\n      <th></th>\n      <th></th>\n      <th></th>\n      <th></th>\n    </tr>\n  </thead>\n  <tbody>\n    <tr>\n      <th>1</th>\n      <td>3</td>\n      <td>9</td>\n      <td>2017-01-01</td>\n      <td>500</td>\n      <td>Seoul</td>\n      <td>confirm</td>\n    </tr>\n    <tr>\n      <th>5</th>\n      <td>7</td>\n      <td>3</td>\n      <td>2017-01-09</td>\n      <td>700</td>\n      <td>Incheon</td>\n      <td>confirm</td>\n    </tr>\n    <tr>\n      <th>6</th>\n      <td>5</td>\n      <td>7</td>\n      <td>2017-01-09</td>\n      <td>600</td>\n      <td>Busan</td>\n      <td>cancel</td>\n    </tr>\n  </tbody>\n</table>\n</div>"
     },
     "execution_count": 110,
     "metadata": {},
     "output_type": "execute_result"
    }
   ],
   "source": [
    "order[order['date'].isin(date_candidate)]"
   ],
   "metadata": {
    "collapsed": false,
    "pycharm": {
     "name": "#%%\n"
    }
   }
  },
  {
   "cell_type": "code",
   "execution_count": 111,
   "outputs": [
    {
     "data": {
      "text/plain": "    user_id  product_id       date  price address   state\nid                                                       \n4         4           2 2017-01-07    500     NaN  cancel\n7         2           5 2017-01-10    200     NaN  cancel",
      "text/html": "<div>\n<style scoped>\n    .dataframe tbody tr th:only-of-type {\n        vertical-align: middle;\n    }\n\n    .dataframe tbody tr th {\n        vertical-align: top;\n    }\n\n    .dataframe thead th {\n        text-align: right;\n    }\n</style>\n<table border=\"1\" class=\"dataframe\">\n  <thead>\n    <tr style=\"text-align: right;\">\n      <th></th>\n      <th>user_id</th>\n      <th>product_id</th>\n      <th>date</th>\n      <th>price</th>\n      <th>address</th>\n      <th>state</th>\n    </tr>\n    <tr>\n      <th>id</th>\n      <th></th>\n      <th></th>\n      <th></th>\n      <th></th>\n      <th></th>\n      <th></th>\n    </tr>\n  </thead>\n  <tbody>\n    <tr>\n      <th>4</th>\n      <td>4</td>\n      <td>2</td>\n      <td>2017-01-07</td>\n      <td>500</td>\n      <td>NaN</td>\n      <td>cancel</td>\n    </tr>\n    <tr>\n      <th>7</th>\n      <td>2</td>\n      <td>5</td>\n      <td>2017-01-10</td>\n      <td>200</td>\n      <td>NaN</td>\n      <td>cancel</td>\n    </tr>\n  </tbody>\n</table>\n</div>"
     },
     "execution_count": 111,
     "metadata": {},
     "output_type": "execute_result"
    }
   ],
   "source": [
    "order[order['address'].isnull()]"
   ],
   "metadata": {
    "collapsed": false,
    "pycharm": {
     "name": "#%%\n"
    }
   }
  },
  {
   "cell_type": "code",
   "execution_count": 112,
   "outputs": [
    {
     "data": {
      "text/plain": "    user_id  product_id       date  price  address    state\nid                                                         \n1         3           9 2017-01-01    500    Seoul  confirm\n2         1           7 2017-01-03    700    Seoul  confirm\n3         3           8 2017-01-03    900  Daejeon  confirm\n5         7           3 2017-01-09    700  Incheon  confirm\n6         5           7 2017-01-09    600    Busan   cancel",
      "text/html": "<div>\n<style scoped>\n    .dataframe tbody tr th:only-of-type {\n        vertical-align: middle;\n    }\n\n    .dataframe tbody tr th {\n        vertical-align: top;\n    }\n\n    .dataframe thead th {\n        text-align: right;\n    }\n</style>\n<table border=\"1\" class=\"dataframe\">\n  <thead>\n    <tr style=\"text-align: right;\">\n      <th></th>\n      <th>user_id</th>\n      <th>product_id</th>\n      <th>date</th>\n      <th>price</th>\n      <th>address</th>\n      <th>state</th>\n    </tr>\n    <tr>\n      <th>id</th>\n      <th></th>\n      <th></th>\n      <th></th>\n      <th></th>\n      <th></th>\n      <th></th>\n    </tr>\n  </thead>\n  <tbody>\n    <tr>\n      <th>1</th>\n      <td>3</td>\n      <td>9</td>\n      <td>2017-01-01</td>\n      <td>500</td>\n      <td>Seoul</td>\n      <td>confirm</td>\n    </tr>\n    <tr>\n      <th>2</th>\n      <td>1</td>\n      <td>7</td>\n      <td>2017-01-03</td>\n      <td>700</td>\n      <td>Seoul</td>\n      <td>confirm</td>\n    </tr>\n    <tr>\n      <th>3</th>\n      <td>3</td>\n      <td>8</td>\n      <td>2017-01-03</td>\n      <td>900</td>\n      <td>Daejeon</td>\n      <td>confirm</td>\n    </tr>\n    <tr>\n      <th>5</th>\n      <td>7</td>\n      <td>3</td>\n      <td>2017-01-09</td>\n      <td>700</td>\n      <td>Incheon</td>\n      <td>confirm</td>\n    </tr>\n    <tr>\n      <th>6</th>\n      <td>5</td>\n      <td>7</td>\n      <td>2017-01-09</td>\n      <td>600</td>\n      <td>Busan</td>\n      <td>cancel</td>\n    </tr>\n  </tbody>\n</table>\n</div>"
     },
     "execution_count": 112,
     "metadata": {},
     "output_type": "execute_result"
    }
   ],
   "source": [
    "order[~order['address'].isnull()]"
   ],
   "metadata": {
    "collapsed": false,
    "pycharm": {
     "name": "#%%\n"
    }
   }
  },
  {
   "cell_type": "code",
   "execution_count": 113,
   "outputs": [
    {
     "data": {
      "text/plain": "    user_id  product_id       date  price  address    state\nid                                                         \n1         3           9 2017-01-01    500    Seoul  confirm\n2         1           7 2017-01-03    700    Seoul  confirm\n3         3           8 2017-01-03    900  Daejeon  confirm\n5         7           3 2017-01-09    700  Incheon  confirm\n6         5           7 2017-01-09    600    Busan   cancel",
      "text/html": "<div>\n<style scoped>\n    .dataframe tbody tr th:only-of-type {\n        vertical-align: middle;\n    }\n\n    .dataframe tbody tr th {\n        vertical-align: top;\n    }\n\n    .dataframe thead th {\n        text-align: right;\n    }\n</style>\n<table border=\"1\" class=\"dataframe\">\n  <thead>\n    <tr style=\"text-align: right;\">\n      <th></th>\n      <th>user_id</th>\n      <th>product_id</th>\n      <th>date</th>\n      <th>price</th>\n      <th>address</th>\n      <th>state</th>\n    </tr>\n    <tr>\n      <th>id</th>\n      <th></th>\n      <th></th>\n      <th></th>\n      <th></th>\n      <th></th>\n      <th></th>\n    </tr>\n  </thead>\n  <tbody>\n    <tr>\n      <th>1</th>\n      <td>3</td>\n      <td>9</td>\n      <td>2017-01-01</td>\n      <td>500</td>\n      <td>Seoul</td>\n      <td>confirm</td>\n    </tr>\n    <tr>\n      <th>2</th>\n      <td>1</td>\n      <td>7</td>\n      <td>2017-01-03</td>\n      <td>700</td>\n      <td>Seoul</td>\n      <td>confirm</td>\n    </tr>\n    <tr>\n      <th>3</th>\n      <td>3</td>\n      <td>8</td>\n      <td>2017-01-03</td>\n      <td>900</td>\n      <td>Daejeon</td>\n      <td>confirm</td>\n    </tr>\n    <tr>\n      <th>5</th>\n      <td>7</td>\n      <td>3</td>\n      <td>2017-01-09</td>\n      <td>700</td>\n      <td>Incheon</td>\n      <td>confirm</td>\n    </tr>\n    <tr>\n      <th>6</th>\n      <td>5</td>\n      <td>7</td>\n      <td>2017-01-09</td>\n      <td>600</td>\n      <td>Busan</td>\n      <td>cancel</td>\n    </tr>\n  </tbody>\n</table>\n</div>"
     },
     "execution_count": 113,
     "metadata": {},
     "output_type": "execute_result"
    }
   ],
   "source": [
    "order[order['address'].notnull()]"
   ],
   "metadata": {
    "collapsed": false,
    "pycharm": {
     "name": "#%%\n"
    }
   }
  },
  {
   "cell_type": "code",
   "execution_count": 114,
   "outputs": [
    {
     "data": {
      "text/plain": "    user_id  product_id       date  price  address    state\nid                                                         \n1         3           9 2017-01-01    500    Seoul  confirm\n2         1           7 2017-01-03    700    Seoul  confirm\n3         3           8 2017-01-03    900  Daejeon  confirm\n5         7           3 2017-01-09    700  Incheon  confirm",
      "text/html": "<div>\n<style scoped>\n    .dataframe tbody tr th:only-of-type {\n        vertical-align: middle;\n    }\n\n    .dataframe tbody tr th {\n        vertical-align: top;\n    }\n\n    .dataframe thead th {\n        text-align: right;\n    }\n</style>\n<table border=\"1\" class=\"dataframe\">\n  <thead>\n    <tr style=\"text-align: right;\">\n      <th></th>\n      <th>user_id</th>\n      <th>product_id</th>\n      <th>date</th>\n      <th>price</th>\n      <th>address</th>\n      <th>state</th>\n    </tr>\n    <tr>\n      <th>id</th>\n      <th></th>\n      <th></th>\n      <th></th>\n      <th></th>\n      <th></th>\n      <th></th>\n    </tr>\n  </thead>\n  <tbody>\n    <tr>\n      <th>1</th>\n      <td>3</td>\n      <td>9</td>\n      <td>2017-01-01</td>\n      <td>500</td>\n      <td>Seoul</td>\n      <td>confirm</td>\n    </tr>\n    <tr>\n      <th>2</th>\n      <td>1</td>\n      <td>7</td>\n      <td>2017-01-03</td>\n      <td>700</td>\n      <td>Seoul</td>\n      <td>confirm</td>\n    </tr>\n    <tr>\n      <th>3</th>\n      <td>3</td>\n      <td>8</td>\n      <td>2017-01-03</td>\n      <td>900</td>\n      <td>Daejeon</td>\n      <td>confirm</td>\n    </tr>\n    <tr>\n      <th>5</th>\n      <td>7</td>\n      <td>3</td>\n      <td>2017-01-09</td>\n      <td>700</td>\n      <td>Incheon</td>\n      <td>confirm</td>\n    </tr>\n  </tbody>\n</table>\n</div>"
     },
     "execution_count": 114,
     "metadata": {},
     "output_type": "execute_result"
    }
   ],
   "source": [
    "order[(order['price'] >= 500) & (order['state'] == 'confirm')]"
   ],
   "metadata": {
    "collapsed": false,
    "pycharm": {
     "name": "#%%\n"
    }
   }
  },
  {
   "cell_type": "code",
   "execution_count": 115,
   "outputs": [
    {
     "data": {
      "text/plain": "    user_id  product_id       date  price  address    state\nid                                                         \n1         3           9 2017-01-01    500    Seoul  confirm\n2         1           7 2017-01-03    700    Seoul  confirm\n3         3           8 2017-01-03    900  Daejeon  confirm\n5         7           3 2017-01-09    700  Incheon  confirm",
      "text/html": "<div>\n<style scoped>\n    .dataframe tbody tr th:only-of-type {\n        vertical-align: middle;\n    }\n\n    .dataframe tbody tr th {\n        vertical-align: top;\n    }\n\n    .dataframe thead th {\n        text-align: right;\n    }\n</style>\n<table border=\"1\" class=\"dataframe\">\n  <thead>\n    <tr style=\"text-align: right;\">\n      <th></th>\n      <th>user_id</th>\n      <th>product_id</th>\n      <th>date</th>\n      <th>price</th>\n      <th>address</th>\n      <th>state</th>\n    </tr>\n    <tr>\n      <th>id</th>\n      <th></th>\n      <th></th>\n      <th></th>\n      <th></th>\n      <th></th>\n      <th></th>\n    </tr>\n  </thead>\n  <tbody>\n    <tr>\n      <th>1</th>\n      <td>3</td>\n      <td>9</td>\n      <td>2017-01-01</td>\n      <td>500</td>\n      <td>Seoul</td>\n      <td>confirm</td>\n    </tr>\n    <tr>\n      <th>2</th>\n      <td>1</td>\n      <td>7</td>\n      <td>2017-01-03</td>\n      <td>700</td>\n      <td>Seoul</td>\n      <td>confirm</td>\n    </tr>\n    <tr>\n      <th>3</th>\n      <td>3</td>\n      <td>8</td>\n      <td>2017-01-03</td>\n      <td>900</td>\n      <td>Daejeon</td>\n      <td>confirm</td>\n    </tr>\n    <tr>\n      <th>5</th>\n      <td>7</td>\n      <td>3</td>\n      <td>2017-01-09</td>\n      <td>700</td>\n      <td>Incheon</td>\n      <td>confirm</td>\n    </tr>\n  </tbody>\n</table>\n</div>"
     },
     "execution_count": 115,
     "metadata": {},
     "output_type": "execute_result"
    }
   ],
   "source": [
    "high = order['price'] >= 500\n",
    "confirm = order['state'] == 'confirm'\n",
    "\n",
    "order[high & confirm]"
   ],
   "metadata": {
    "collapsed": false,
    "pycharm": {
     "name": "#%%\n"
    }
   }
  },
  {
   "cell_type": "code",
   "execution_count": 116,
   "outputs": [
    {
     "data": {
      "text/plain": "    user_id  product_id       date  price  address    state\nid                                                         \n1         3           9 2017-01-01    500    Seoul  confirm\n2         1           7 2017-01-03    700    Seoul  confirm\n3         3           8 2017-01-03    900  Daejeon  confirm\n4         4           2 2017-01-07    500      NaN   cancel\n5         7           3 2017-01-09    700  Incheon  confirm\n6         5           7 2017-01-09    600    Busan   cancel",
      "text/html": "<div>\n<style scoped>\n    .dataframe tbody tr th:only-of-type {\n        vertical-align: middle;\n    }\n\n    .dataframe tbody tr th {\n        vertical-align: top;\n    }\n\n    .dataframe thead th {\n        text-align: right;\n    }\n</style>\n<table border=\"1\" class=\"dataframe\">\n  <thead>\n    <tr style=\"text-align: right;\">\n      <th></th>\n      <th>user_id</th>\n      <th>product_id</th>\n      <th>date</th>\n      <th>price</th>\n      <th>address</th>\n      <th>state</th>\n    </tr>\n    <tr>\n      <th>id</th>\n      <th></th>\n      <th></th>\n      <th></th>\n      <th></th>\n      <th></th>\n      <th></th>\n    </tr>\n  </thead>\n  <tbody>\n    <tr>\n      <th>1</th>\n      <td>3</td>\n      <td>9</td>\n      <td>2017-01-01</td>\n      <td>500</td>\n      <td>Seoul</td>\n      <td>confirm</td>\n    </tr>\n    <tr>\n      <th>2</th>\n      <td>1</td>\n      <td>7</td>\n      <td>2017-01-03</td>\n      <td>700</td>\n      <td>Seoul</td>\n      <td>confirm</td>\n    </tr>\n    <tr>\n      <th>3</th>\n      <td>3</td>\n      <td>8</td>\n      <td>2017-01-03</td>\n      <td>900</td>\n      <td>Daejeon</td>\n      <td>confirm</td>\n    </tr>\n    <tr>\n      <th>4</th>\n      <td>4</td>\n      <td>2</td>\n      <td>2017-01-07</td>\n      <td>500</td>\n      <td>NaN</td>\n      <td>cancel</td>\n    </tr>\n    <tr>\n      <th>5</th>\n      <td>7</td>\n      <td>3</td>\n      <td>2017-01-09</td>\n      <td>700</td>\n      <td>Incheon</td>\n      <td>confirm</td>\n    </tr>\n    <tr>\n      <th>6</th>\n      <td>5</td>\n      <td>7</td>\n      <td>2017-01-09</td>\n      <td>600</td>\n      <td>Busan</td>\n      <td>cancel</td>\n    </tr>\n  </tbody>\n</table>\n</div>"
     },
     "execution_count": 116,
     "metadata": {},
     "output_type": "execute_result"
    }
   ],
   "source": [
    "order[high | confirm]"
   ],
   "metadata": {
    "collapsed": false,
    "pycharm": {
     "name": "#%%\n"
    }
   }
  },
  {
   "cell_type": "code",
   "execution_count": 117,
   "outputs": [
    {
     "data": {
      "text/plain": "id\n5    700\n6    600\nName: price, dtype: int64"
     },
     "execution_count": 117,
     "metadata": {},
     "output_type": "execute_result"
    }
   ],
   "source": [
    "order[order['date'] == '2017-01-09']['price']"
   ],
   "metadata": {
    "collapsed": false,
    "pycharm": {
     "name": "#%%\n"
    }
   }
  },
  {
   "cell_type": "code",
   "execution_count": 118,
   "outputs": [
    {
     "data": {
      "text/plain": "id\n5    700\n6    600\nName: price, dtype: int64"
     },
     "execution_count": 118,
     "metadata": {},
     "output_type": "execute_result"
    }
   ],
   "source": [
    "order.loc[order['date'] == '2017-01-09', 'price']"
   ],
   "metadata": {
    "collapsed": false,
    "pycharm": {
     "name": "#%%\n"
    }
   }
  },
  {
   "cell_type": "markdown",
   "source": [
    "## 컬럼 추가 및 수정"
   ],
   "metadata": {
    "collapsed": false,
    "pycharm": {
     "name": "#%% md\n"
    }
   }
  },
  {
   "cell_type": "code",
   "execution_count": 119,
   "outputs": [
    {
     "data": {
      "text/plain": "    user_id  product_id       date  price  address    state\nid                                                         \n1         3           9 2017-01-01    500    Seoul  confirm\n2         1           7 2017-01-03    700    Seoul  confirm\n3         3           8 2017-01-03    900  Daejeon  confirm\n4         4           2 2017-01-07    500      NaN   cancel\n5         7           3 2017-01-09    700  Incheon  confirm\n6         5           7 2017-01-09    600    Busan   cancel\n7         2           5 2017-01-10    200      NaN   cancel",
      "text/html": "<div>\n<style scoped>\n    .dataframe tbody tr th:only-of-type {\n        vertical-align: middle;\n    }\n\n    .dataframe tbody tr th {\n        vertical-align: top;\n    }\n\n    .dataframe thead th {\n        text-align: right;\n    }\n</style>\n<table border=\"1\" class=\"dataframe\">\n  <thead>\n    <tr style=\"text-align: right;\">\n      <th></th>\n      <th>user_id</th>\n      <th>product_id</th>\n      <th>date</th>\n      <th>price</th>\n      <th>address</th>\n      <th>state</th>\n    </tr>\n    <tr>\n      <th>id</th>\n      <th></th>\n      <th></th>\n      <th></th>\n      <th></th>\n      <th></th>\n      <th></th>\n    </tr>\n  </thead>\n  <tbody>\n    <tr>\n      <th>1</th>\n      <td>3</td>\n      <td>9</td>\n      <td>2017-01-01</td>\n      <td>500</td>\n      <td>Seoul</td>\n      <td>confirm</td>\n    </tr>\n    <tr>\n      <th>2</th>\n      <td>1</td>\n      <td>7</td>\n      <td>2017-01-03</td>\n      <td>700</td>\n      <td>Seoul</td>\n      <td>confirm</td>\n    </tr>\n    <tr>\n      <th>3</th>\n      <td>3</td>\n      <td>8</td>\n      <td>2017-01-03</td>\n      <td>900</td>\n      <td>Daejeon</td>\n      <td>confirm</td>\n    </tr>\n    <tr>\n      <th>4</th>\n      <td>4</td>\n      <td>2</td>\n      <td>2017-01-07</td>\n      <td>500</td>\n      <td>NaN</td>\n      <td>cancel</td>\n    </tr>\n    <tr>\n      <th>5</th>\n      <td>7</td>\n      <td>3</td>\n      <td>2017-01-09</td>\n      <td>700</td>\n      <td>Incheon</td>\n      <td>confirm</td>\n    </tr>\n    <tr>\n      <th>6</th>\n      <td>5</td>\n      <td>7</td>\n      <td>2017-01-09</td>\n      <td>600</td>\n      <td>Busan</td>\n      <td>cancel</td>\n    </tr>\n    <tr>\n      <th>7</th>\n      <td>2</td>\n      <td>5</td>\n      <td>2017-01-10</td>\n      <td>200</td>\n      <td>NaN</td>\n      <td>cancel</td>\n    </tr>\n  </tbody>\n</table>\n</div>"
     },
     "execution_count": 119,
     "metadata": {},
     "output_type": "execute_result"
    }
   ],
   "source": [
    "order"
   ],
   "metadata": {
    "collapsed": false,
    "pycharm": {
     "name": "#%%\n"
    }
   }
  },
  {
   "cell_type": "code",
   "execution_count": 120,
   "outputs": [
    {
     "data": {
      "text/plain": "    user_id  product_id       date  price  address    state   card-holder\nid                                                                       \n1         3           9 2017-01-01    500    Seoul  confirm  Hyundai Card\n2         1           7 2017-01-03    700    Seoul  confirm  Hyundai Card\n3         3           8 2017-01-03    900  Daejeon  confirm  Hyundai Card\n4         4           2 2017-01-07    500      NaN   cancel  Hyundai Card\n5         7           3 2017-01-09    700  Incheon  confirm  Hyundai Card\n6         5           7 2017-01-09    600    Busan   cancel  Hyundai Card\n7         2           5 2017-01-10    200      NaN   cancel  Hyundai Card",
      "text/html": "<div>\n<style scoped>\n    .dataframe tbody tr th:only-of-type {\n        vertical-align: middle;\n    }\n\n    .dataframe tbody tr th {\n        vertical-align: top;\n    }\n\n    .dataframe thead th {\n        text-align: right;\n    }\n</style>\n<table border=\"1\" class=\"dataframe\">\n  <thead>\n    <tr style=\"text-align: right;\">\n      <th></th>\n      <th>user_id</th>\n      <th>product_id</th>\n      <th>date</th>\n      <th>price</th>\n      <th>address</th>\n      <th>state</th>\n      <th>card-holder</th>\n    </tr>\n    <tr>\n      <th>id</th>\n      <th></th>\n      <th></th>\n      <th></th>\n      <th></th>\n      <th></th>\n      <th></th>\n      <th></th>\n    </tr>\n  </thead>\n  <tbody>\n    <tr>\n      <th>1</th>\n      <td>3</td>\n      <td>9</td>\n      <td>2017-01-01</td>\n      <td>500</td>\n      <td>Seoul</td>\n      <td>confirm</td>\n      <td>Hyundai Card</td>\n    </tr>\n    <tr>\n      <th>2</th>\n      <td>1</td>\n      <td>7</td>\n      <td>2017-01-03</td>\n      <td>700</td>\n      <td>Seoul</td>\n      <td>confirm</td>\n      <td>Hyundai Card</td>\n    </tr>\n    <tr>\n      <th>3</th>\n      <td>3</td>\n      <td>8</td>\n      <td>2017-01-03</td>\n      <td>900</td>\n      <td>Daejeon</td>\n      <td>confirm</td>\n      <td>Hyundai Card</td>\n    </tr>\n    <tr>\n      <th>4</th>\n      <td>4</td>\n      <td>2</td>\n      <td>2017-01-07</td>\n      <td>500</td>\n      <td>NaN</td>\n      <td>cancel</td>\n      <td>Hyundai Card</td>\n    </tr>\n    <tr>\n      <th>5</th>\n      <td>7</td>\n      <td>3</td>\n      <td>2017-01-09</td>\n      <td>700</td>\n      <td>Incheon</td>\n      <td>confirm</td>\n      <td>Hyundai Card</td>\n    </tr>\n    <tr>\n      <th>6</th>\n      <td>5</td>\n      <td>7</td>\n      <td>2017-01-09</td>\n      <td>600</td>\n      <td>Busan</td>\n      <td>cancel</td>\n      <td>Hyundai Card</td>\n    </tr>\n    <tr>\n      <th>7</th>\n      <td>2</td>\n      <td>5</td>\n      <td>2017-01-10</td>\n      <td>200</td>\n      <td>NaN</td>\n      <td>cancel</td>\n      <td>Hyundai Card</td>\n    </tr>\n  </tbody>\n</table>\n</div>"
     },
     "execution_count": 120,
     "metadata": {},
     "output_type": "execute_result"
    }
   ],
   "source": [
    "order['card-holder'] = 'Hyundai Card'\n",
    "order"
   ],
   "metadata": {
    "collapsed": false,
    "pycharm": {
     "name": "#%%\n"
    }
   }
  },
  {
   "cell_type": "code",
   "execution_count": 121,
   "outputs": [],
   "source": [
    "order['order'] = [1, 2, 3, 4, 5, 6, 7]"
   ],
   "metadata": {
    "collapsed": false,
    "pycharm": {
     "name": "#%%\n"
    }
   }
  },
  {
   "cell_type": "code",
   "execution_count": 122,
   "outputs": [
    {
     "data": {
      "text/plain": "    user_id  product_id       date  price  address    state   card-holder  \\\nid                                                                          \n1         3           9 2017-01-01    500    Seoul  confirm  Hyundai Card   \n2         1           7 2017-01-03    700    Seoul  confirm  Hyundai Card   \n3         3           8 2017-01-03    900  Daejeon  confirm  Hyundai Card   \n4         4           2 2017-01-07    500      NaN   cancel  Hyundai Card   \n5         7           3 2017-01-09    700  Incheon  confirm  Hyundai Card   \n6         5           7 2017-01-09    600    Busan   cancel  Hyundai Card   \n7         2           5 2017-01-10    200      NaN   cancel  Hyundai Card   \n\n    order  \nid         \n1       1  \n2       2  \n3       3  \n4       4  \n5       5  \n6       6  \n7       7  ",
      "text/html": "<div>\n<style scoped>\n    .dataframe tbody tr th:only-of-type {\n        vertical-align: middle;\n    }\n\n    .dataframe tbody tr th {\n        vertical-align: top;\n    }\n\n    .dataframe thead th {\n        text-align: right;\n    }\n</style>\n<table border=\"1\" class=\"dataframe\">\n  <thead>\n    <tr style=\"text-align: right;\">\n      <th></th>\n      <th>user_id</th>\n      <th>product_id</th>\n      <th>date</th>\n      <th>price</th>\n      <th>address</th>\n      <th>state</th>\n      <th>card-holder</th>\n      <th>order</th>\n    </tr>\n    <tr>\n      <th>id</th>\n      <th></th>\n      <th></th>\n      <th></th>\n      <th></th>\n      <th></th>\n      <th></th>\n      <th></th>\n      <th></th>\n    </tr>\n  </thead>\n  <tbody>\n    <tr>\n      <th>1</th>\n      <td>3</td>\n      <td>9</td>\n      <td>2017-01-01</td>\n      <td>500</td>\n      <td>Seoul</td>\n      <td>confirm</td>\n      <td>Hyundai Card</td>\n      <td>1</td>\n    </tr>\n    <tr>\n      <th>2</th>\n      <td>1</td>\n      <td>7</td>\n      <td>2017-01-03</td>\n      <td>700</td>\n      <td>Seoul</td>\n      <td>confirm</td>\n      <td>Hyundai Card</td>\n      <td>2</td>\n    </tr>\n    <tr>\n      <th>3</th>\n      <td>3</td>\n      <td>8</td>\n      <td>2017-01-03</td>\n      <td>900</td>\n      <td>Daejeon</td>\n      <td>confirm</td>\n      <td>Hyundai Card</td>\n      <td>3</td>\n    </tr>\n    <tr>\n      <th>4</th>\n      <td>4</td>\n      <td>2</td>\n      <td>2017-01-07</td>\n      <td>500</td>\n      <td>NaN</td>\n      <td>cancel</td>\n      <td>Hyundai Card</td>\n      <td>4</td>\n    </tr>\n    <tr>\n      <th>5</th>\n      <td>7</td>\n      <td>3</td>\n      <td>2017-01-09</td>\n      <td>700</td>\n      <td>Incheon</td>\n      <td>confirm</td>\n      <td>Hyundai Card</td>\n      <td>5</td>\n    </tr>\n    <tr>\n      <th>6</th>\n      <td>5</td>\n      <td>7</td>\n      <td>2017-01-09</td>\n      <td>600</td>\n      <td>Busan</td>\n      <td>cancel</td>\n      <td>Hyundai Card</td>\n      <td>6</td>\n    </tr>\n    <tr>\n      <th>7</th>\n      <td>2</td>\n      <td>5</td>\n      <td>2017-01-10</td>\n      <td>200</td>\n      <td>NaN</td>\n      <td>cancel</td>\n      <td>Hyundai Card</td>\n      <td>7</td>\n    </tr>\n  </tbody>\n</table>\n</div>"
     },
     "execution_count": 122,
     "metadata": {},
     "output_type": "execute_result"
    }
   ],
   "source": [
    "order"
   ],
   "metadata": {
    "collapsed": false,
    "pycharm": {
     "name": "#%%\n"
    }
   }
  },
  {
   "cell_type": "code",
   "execution_count": 123,
   "outputs": [
    {
     "data": {
      "text/plain": "    user_id  product_id       date  price  address    state   card-holder  \\\nid                                                                          \n1         3           9 2017-01-01    500    Seoul  confirm  Hyundai Card   \n2         1           7 2017-01-03    700    Seoul  confirm  Hyundai Card   \n3         3           8 2017-01-03    900  Daejeon  confirm  Hyundai Card   \n4         4           2 2017-01-07    500      NaN   cancel  Hyundai Card   \n5         7           3 2017-01-09    700  Incheon  confirm  Hyundai Card   \n6         5           7 2017-01-09    600    Busan   cancel  Hyundai Card   \n7         2           5 2017-01-10    200      NaN   cancel  Hyundai Card   \n\n    order    VIP  \nid                \n1       1   True  \n2       2   True  \n3       3   True  \n4       4   True  \n5       5   True  \n6       6   True  \n7       7  False  ",
      "text/html": "<div>\n<style scoped>\n    .dataframe tbody tr th:only-of-type {\n        vertical-align: middle;\n    }\n\n    .dataframe tbody tr th {\n        vertical-align: top;\n    }\n\n    .dataframe thead th {\n        text-align: right;\n    }\n</style>\n<table border=\"1\" class=\"dataframe\">\n  <thead>\n    <tr style=\"text-align: right;\">\n      <th></th>\n      <th>user_id</th>\n      <th>product_id</th>\n      <th>date</th>\n      <th>price</th>\n      <th>address</th>\n      <th>state</th>\n      <th>card-holder</th>\n      <th>order</th>\n      <th>VIP</th>\n    </tr>\n    <tr>\n      <th>id</th>\n      <th></th>\n      <th></th>\n      <th></th>\n      <th></th>\n      <th></th>\n      <th></th>\n      <th></th>\n      <th></th>\n      <th></th>\n    </tr>\n  </thead>\n  <tbody>\n    <tr>\n      <th>1</th>\n      <td>3</td>\n      <td>9</td>\n      <td>2017-01-01</td>\n      <td>500</td>\n      <td>Seoul</td>\n      <td>confirm</td>\n      <td>Hyundai Card</td>\n      <td>1</td>\n      <td>True</td>\n    </tr>\n    <tr>\n      <th>2</th>\n      <td>1</td>\n      <td>7</td>\n      <td>2017-01-03</td>\n      <td>700</td>\n      <td>Seoul</td>\n      <td>confirm</td>\n      <td>Hyundai Card</td>\n      <td>2</td>\n      <td>True</td>\n    </tr>\n    <tr>\n      <th>3</th>\n      <td>3</td>\n      <td>8</td>\n      <td>2017-01-03</td>\n      <td>900</td>\n      <td>Daejeon</td>\n      <td>confirm</td>\n      <td>Hyundai Card</td>\n      <td>3</td>\n      <td>True</td>\n    </tr>\n    <tr>\n      <th>4</th>\n      <td>4</td>\n      <td>2</td>\n      <td>2017-01-07</td>\n      <td>500</td>\n      <td>NaN</td>\n      <td>cancel</td>\n      <td>Hyundai Card</td>\n      <td>4</td>\n      <td>True</td>\n    </tr>\n    <tr>\n      <th>5</th>\n      <td>7</td>\n      <td>3</td>\n      <td>2017-01-09</td>\n      <td>700</td>\n      <td>Incheon</td>\n      <td>confirm</td>\n      <td>Hyundai Card</td>\n      <td>5</td>\n      <td>True</td>\n    </tr>\n    <tr>\n      <th>6</th>\n      <td>5</td>\n      <td>7</td>\n      <td>2017-01-09</td>\n      <td>600</td>\n      <td>Busan</td>\n      <td>cancel</td>\n      <td>Hyundai Card</td>\n      <td>6</td>\n      <td>True</td>\n    </tr>\n    <tr>\n      <th>7</th>\n      <td>2</td>\n      <td>5</td>\n      <td>2017-01-10</td>\n      <td>200</td>\n      <td>NaN</td>\n      <td>cancel</td>\n      <td>Hyundai Card</td>\n      <td>7</td>\n      <td>False</td>\n    </tr>\n  </tbody>\n</table>\n</div>"
     },
     "execution_count": 123,
     "metadata": {},
     "output_type": "execute_result"
    }
   ],
   "source": [
    "order['VIP'] = order['price'] >= 500\n",
    "order"
   ],
   "metadata": {
    "collapsed": false,
    "pycharm": {
     "name": "#%%\n"
    }
   }
  },
  {
   "cell_type": "code",
   "execution_count": 124,
   "outputs": [
    {
     "data": {
      "text/plain": "    user_id  product_id       date  price  address    state   card-holder  \\\nid                                                                          \n1         3           9 2017-01-01    500    Seoul  confirm  Hyundai Card   \n2         1           7 2017-01-03    700    Seoul  confirm  Hyundai Card   \n3         3           8 2017-01-03    900  Daejeon  confirm  Hyundai Card   \n4         4           2 2017-01-07    500      NaN   cancel  Hyundai Card   \n5         7           3 2017-01-09    700  Incheon  confirm  Hyundai Card   \n6         5           7 2017-01-09    600    Busan   cancel  Hyundai Card   \n7         2           5 2017-01-10    200      NaN   cancel  Hyundai Card   \n\n    order    VIP  \nid                \n1       1   True  \n2       2   True  \n3       3   True  \n4       4  False  \n5       5   True  \n6       6  False  \n7       7  False  ",
      "text/html": "<div>\n<style scoped>\n    .dataframe tbody tr th:only-of-type {\n        vertical-align: middle;\n    }\n\n    .dataframe tbody tr th {\n        vertical-align: top;\n    }\n\n    .dataframe thead th {\n        text-align: right;\n    }\n</style>\n<table border=\"1\" class=\"dataframe\">\n  <thead>\n    <tr style=\"text-align: right;\">\n      <th></th>\n      <th>user_id</th>\n      <th>product_id</th>\n      <th>date</th>\n      <th>price</th>\n      <th>address</th>\n      <th>state</th>\n      <th>card-holder</th>\n      <th>order</th>\n      <th>VIP</th>\n    </tr>\n    <tr>\n      <th>id</th>\n      <th></th>\n      <th></th>\n      <th></th>\n      <th></th>\n      <th></th>\n      <th></th>\n      <th></th>\n      <th></th>\n      <th></th>\n    </tr>\n  </thead>\n  <tbody>\n    <tr>\n      <th>1</th>\n      <td>3</td>\n      <td>9</td>\n      <td>2017-01-01</td>\n      <td>500</td>\n      <td>Seoul</td>\n      <td>confirm</td>\n      <td>Hyundai Card</td>\n      <td>1</td>\n      <td>True</td>\n    </tr>\n    <tr>\n      <th>2</th>\n      <td>1</td>\n      <td>7</td>\n      <td>2017-01-03</td>\n      <td>700</td>\n      <td>Seoul</td>\n      <td>confirm</td>\n      <td>Hyundai Card</td>\n      <td>2</td>\n      <td>True</td>\n    </tr>\n    <tr>\n      <th>3</th>\n      <td>3</td>\n      <td>8</td>\n      <td>2017-01-03</td>\n      <td>900</td>\n      <td>Daejeon</td>\n      <td>confirm</td>\n      <td>Hyundai Card</td>\n      <td>3</td>\n      <td>True</td>\n    </tr>\n    <tr>\n      <th>4</th>\n      <td>4</td>\n      <td>2</td>\n      <td>2017-01-07</td>\n      <td>500</td>\n      <td>NaN</td>\n      <td>cancel</td>\n      <td>Hyundai Card</td>\n      <td>4</td>\n      <td>False</td>\n    </tr>\n    <tr>\n      <th>5</th>\n      <td>7</td>\n      <td>3</td>\n      <td>2017-01-09</td>\n      <td>700</td>\n      <td>Incheon</td>\n      <td>confirm</td>\n      <td>Hyundai Card</td>\n      <td>5</td>\n      <td>True</td>\n    </tr>\n    <tr>\n      <th>6</th>\n      <td>5</td>\n      <td>7</td>\n      <td>2017-01-09</td>\n      <td>600</td>\n      <td>Busan</td>\n      <td>cancel</td>\n      <td>Hyundai Card</td>\n      <td>6</td>\n      <td>False</td>\n    </tr>\n    <tr>\n      <th>7</th>\n      <td>2</td>\n      <td>5</td>\n      <td>2017-01-10</td>\n      <td>200</td>\n      <td>NaN</td>\n      <td>cancel</td>\n      <td>Hyundai Card</td>\n      <td>7</td>\n      <td>False</td>\n    </tr>\n  </tbody>\n</table>\n</div>"
     },
     "execution_count": 124,
     "metadata": {},
     "output_type": "execute_result"
    }
   ],
   "source": [
    "order['VIP'] = (order['price'] >=500) & (order['state'] == 'confirm')\n",
    "order\n"
   ],
   "metadata": {
    "collapsed": false,
    "pycharm": {
     "name": "#%%\n"
    }
   }
  },
  {
   "cell_type": "code",
   "execution_count": 125,
   "outputs": [
    {
     "data": {
      "text/plain": "    user_id  product_id       date  price  address    state   card-holder  \\\nid                                                                          \n1         3           9 2017-01-01    500    Seoul  confirm  Hyundai Card   \n2         1           7 2017-01-03    700    Seoul  confirm  Hyundai Card   \n3         3           8 2017-01-03    900  Daejeon  confirm  Hyundai Card   \n4         4           2 2017-01-07    500      NaN   cancel  Hyundai Card   \n5         7           3 2017-01-09    700  Incheon  confirm  Hyundai Card   \n6         5           7 2017-01-09    600    Busan   cancel  Hyundai Card   \n7         2           5 2017-01-10    200      NaN   cancel  Hyundai Card   \n\n    order    VIP level  \nid                      \n1       1   True   VIP  \n2       2   True   VIP  \n3       3   True   VIP  \n4       4  False   VIP  \n5       5   True   VIP  \n6       6  False   VIP  \n7       7  False   VIP  ",
      "text/html": "<div>\n<style scoped>\n    .dataframe tbody tr th:only-of-type {\n        vertical-align: middle;\n    }\n\n    .dataframe tbody tr th {\n        vertical-align: top;\n    }\n\n    .dataframe thead th {\n        text-align: right;\n    }\n</style>\n<table border=\"1\" class=\"dataframe\">\n  <thead>\n    <tr style=\"text-align: right;\">\n      <th></th>\n      <th>user_id</th>\n      <th>product_id</th>\n      <th>date</th>\n      <th>price</th>\n      <th>address</th>\n      <th>state</th>\n      <th>card-holder</th>\n      <th>order</th>\n      <th>VIP</th>\n      <th>level</th>\n    </tr>\n    <tr>\n      <th>id</th>\n      <th></th>\n      <th></th>\n      <th></th>\n      <th></th>\n      <th></th>\n      <th></th>\n      <th></th>\n      <th></th>\n      <th></th>\n      <th></th>\n    </tr>\n  </thead>\n  <tbody>\n    <tr>\n      <th>1</th>\n      <td>3</td>\n      <td>9</td>\n      <td>2017-01-01</td>\n      <td>500</td>\n      <td>Seoul</td>\n      <td>confirm</td>\n      <td>Hyundai Card</td>\n      <td>1</td>\n      <td>True</td>\n      <td>VIP</td>\n    </tr>\n    <tr>\n      <th>2</th>\n      <td>1</td>\n      <td>7</td>\n      <td>2017-01-03</td>\n      <td>700</td>\n      <td>Seoul</td>\n      <td>confirm</td>\n      <td>Hyundai Card</td>\n      <td>2</td>\n      <td>True</td>\n      <td>VIP</td>\n    </tr>\n    <tr>\n      <th>3</th>\n      <td>3</td>\n      <td>8</td>\n      <td>2017-01-03</td>\n      <td>900</td>\n      <td>Daejeon</td>\n      <td>confirm</td>\n      <td>Hyundai Card</td>\n      <td>3</td>\n      <td>True</td>\n      <td>VIP</td>\n    </tr>\n    <tr>\n      <th>4</th>\n      <td>4</td>\n      <td>2</td>\n      <td>2017-01-07</td>\n      <td>500</td>\n      <td>NaN</td>\n      <td>cancel</td>\n      <td>Hyundai Card</td>\n      <td>4</td>\n      <td>False</td>\n      <td>VIP</td>\n    </tr>\n    <tr>\n      <th>5</th>\n      <td>7</td>\n      <td>3</td>\n      <td>2017-01-09</td>\n      <td>700</td>\n      <td>Incheon</td>\n      <td>confirm</td>\n      <td>Hyundai Card</td>\n      <td>5</td>\n      <td>True</td>\n      <td>VIP</td>\n    </tr>\n    <tr>\n      <th>6</th>\n      <td>5</td>\n      <td>7</td>\n      <td>2017-01-09</td>\n      <td>600</td>\n      <td>Busan</td>\n      <td>cancel</td>\n      <td>Hyundai Card</td>\n      <td>6</td>\n      <td>False</td>\n      <td>VIP</td>\n    </tr>\n    <tr>\n      <th>7</th>\n      <td>2</td>\n      <td>5</td>\n      <td>2017-01-10</td>\n      <td>200</td>\n      <td>NaN</td>\n      <td>cancel</td>\n      <td>Hyundai Card</td>\n      <td>7</td>\n      <td>False</td>\n      <td>VIP</td>\n    </tr>\n  </tbody>\n</table>\n</div>"
     },
     "execution_count": 125,
     "metadata": {},
     "output_type": "execute_result"
    }
   ],
   "source": [
    "order.loc[order['price'] >= 500 & (order['state'] == 'confirm'), 'level'] = \"VIP\"\n",
    "order.loc[order['price'] < 500 | (order['state'] == 'cancel'), 'level'] = \"Non-VIP\"\n",
    "order"
   ],
   "metadata": {
    "collapsed": false,
    "pycharm": {
     "name": "#%%\n"
    }
   }
  },
  {
   "cell_type": "code",
   "execution_count": 125,
   "outputs": [],
   "source": [
    "# apply"
   ],
   "metadata": {
    "collapsed": false,
    "pycharm": {
     "name": "#%%\n"
    }
   }
  },
  {
   "cell_type": "code",
   "execution_count": 125,
   "outputs": [],
   "source": [
    "def is_vip(price):\n",
    "\n",
    "    return price\n",
    "\n",
    "order('price').apply(is_vip)"
   ],
   "metadata": {
    "collapsed": false,
    "pycharm": {
     "name": "#%%\n"
    }
   }
  }
 ],
 "metadata": {
  "kernelspec": {
   "display_name": "Python 3",
   "language": "python",
   "name": "python3"
  },
  "language_info": {
   "codemirror_mode": {
    "name": "ipython",
    "version": 2
   },
   "file_extension": ".py",
   "mimetype": "text/x-python",
   "name": "python",
   "nbconvert_exporter": "python",
   "pygments_lexer": "ipython2",
   "version": "2.7.6"
  }
 },
 "nbformat": 4,
 "nbformat_minor": 0
}