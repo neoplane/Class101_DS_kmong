{
 "cells": [
  {
   "cell_type": "markdown",
   "metadata": {},
   "source": [
    "## 클래스101 데이터 분석 팀에 오신 것을 환영합니다!\n",
    "\n",
    "(이 쥬피터 노트북은 다음의 링크 <b><big>http://bit.ly/dsa-0102</big></b> 데이터는 <b><big>https://bit.ly/dsa-01-class101</big></b> 에서 다운받을 수 있습니다.)\n",
    "\n",
    "<img src=\"https://drive.google.com/uc?export=download&id=1cUemVaa-CideqXyJIds4hsB9iqFqaysY\" width=\"640px\"/>\n",
    "\n",
    "<center><small><a href=\"https://class101.net/\" target=\"_blank\">클래스101</a> 홈페이지</small></center>\n",
    "\n",
    "안녕하세요! [클래스101](https://class101.net/) 데이터 분석팀에 오신 것을 환영합니다. [클래스101](https://class101.net/)은 온라인으로 취미를 배울 수 있는 온라인 클래스 플랫폼이며, 2019년을 기점으로 빠르게 성장하고 있습니다.\n",
    "\n",
    "오늘 이 쥬피터 노트북을 받은 수강생분들께서는 하루동안 [클래스101](https://class101.net/)의 일일 데이터 분석가로 활동하게 될 것입니다. [클래스101](https://class101.net/)의 2019년 5월 데이터부터 2020년 4월 데이터까지 총 1년간의 데이터를 바탕으로, 운영팀과 마케팅 팀을 포함한 클래스101의 데이터 분석팀이 데이터를 빠르게 다루고 분석할 수 있도록 데이터를 정리하는, 일명 데이터 클리닝(Data Cleaning) 업무를 하는 것이 오늘의 역할입니다.\n",
    "\n",
    "하기에 제시한 15개의 데이터 분석 요청을 프로그래밍 언어 파이썬([Python](https://www.python.org/))과 파이썬의 데이터 분석 패키지 판다스([Pandas](https://pandas.pydata.org/))를 활용하여 풀어주세요.\n",
    "\n",
    "숙련된 데이터분석가의 경우 하기의 요청을 늦어도 2시간 내에는 해결할 수 있습니다. 즉, **2시간 안에 모든 문제를 풀 수 있다면 합격입니다.**\n",
    "\n",
    "문제를 풀 때 다른 자료를 참고하거나, 구글에 검색하는 것 모두 허용합니다. (문제 중에는 구글에 검색하지 않으면 풀 수 없는 문제도 준비해놓았습니다) 관련 자료는 [10 minutes to pandas](https://pandas.pydata.org/pandas-docs/stable/10min.html)를 강력 추천합니다. 또한 이전 수업에서 학습한 내용을 참고하는 것도 적극 추천합니다."
   ]
  },
  {
   "cell_type": "markdown",
   "metadata": {},
   "source": [
    "### 사전 준비"
   ]
  },
  {
   "cell_type": "code",
   "execution_count": 3,
   "metadata": {},
   "outputs": [],
   "source": [
    "# 파이썬의 데이터 분석 패키지 판다스(Pandas)를 읽어옵니다.\n",
    "# 이를 pd라는 축약어로 사용합니다.\n",
    "import pandas as pd"
   ]
  },
  {
   "cell_type": "markdown",
   "metadata": {},
   "source": [
    "### 데이터 로딩하기"
   ]
  },
  {
   "cell_type": "markdown",
   "metadata": {},
   "source": [
    "먼저 데이터를 로딩해오겠습니다. 데이터를 읽어올때는 [판다스(Pandas)](https://pandas.pydata.org/)의 [read_csv](https://pandas.pydata.org/pandas-docs/stable/generated/pandas.read_csv.html) 라는 기능을 사용합니다.\n",
    "\n",
    "여기서 파일의 경로를 지정하는 방법에 주의하셔야 합니다. read_csv를 실행할 때 (**FileNotFoundError**)라는 이름의 에러가 난다면 경로가 제대로 지정이 되지 않은 것입니다. 만일 파일의 경로를 지정하는 법이 생각나지 않는다면 [다음의 링크](http://88240.tistory.com/122)를 통해 경로를 지정하는 법을 복습해주세요."
   ]
  },
  {
   "cell_type": "markdown",
   "metadata": {},
   "source": [
    "**사용자(```users```) 데이터에 접근하기**\n",
    "\n",
    "가장 먼저 읽어올 데이터는 사용자(```users.csv```) 데이터입니다. 이 데이터는 [클래스101](https://class101.net/)에 가입한 사용자(```users```)의 모든 정보를 담고 있으며, 이 데이터를 중심으로 매출과 누적 수강생 등 여러 핵심적인 분석을 하게 될 것입니다."
   ]
  },
  {
   "cell_type": "code",
   "execution_count": 4,
   "metadata": {},
   "outputs": [
    {
     "name": "stdout",
     "output_type": "stream",
     "text": [
      "(500000, 7)\n"
     ]
    },
    {
     "data": {
      "text/plain": "                                              email          phone name  \\\nid                                                                        \nqgshprk71u177olqc53amg4g  v3jofvd6shvb@class101.net  010-3072-0685  유서진   \nk6ai4dy7cj8uc0xrc6wrf6br  g8pqtiwm2r6k@class101.net            NaN  신소율   \nhormvaltnqcihwmdiv1o6bl8  c30nexut34hv@class101.net  010-4188-1786  홍송빈   \nwooov9hg1ivf72ffglcg8amu  bickbavsvfto@class101.net  010-6320-6368  백수희   \nprpwrccgipqxycq60nbzhx16  2myoeg5f86fn@class101.net  010-2850-0187  윤원일   \n\n                                   created_at           updated_at deleted_at  \\\nid                                                                              \nqgshprk71u177olqc53amg4g  2019-01-01 02:38:13  2020-04-24 09:31:13        NaN   \nk6ai4dy7cj8uc0xrc6wrf6br  2019-01-01 02:51:03  2020-05-03 01:04:03        NaN   \nhormvaltnqcihwmdiv1o6bl8  2019-01-01 03:25:40  2020-06-03 07:51:40        NaN   \nwooov9hg1ivf72ffglcg8amu  2019-01-01 03:44:43  2020-06-03 11:40:43        NaN   \nprpwrccgipqxycq60nbzhx16  2019-01-01 03:55:32  2020-05-30 04:34:32        NaN   \n\n                         registration_date  \nid                                          \nqgshprk71u177olqc53amg4g        2019-01-01  \nk6ai4dy7cj8uc0xrc6wrf6br        2019-01-01  \nhormvaltnqcihwmdiv1o6bl8        2019-01-01  \nwooov9hg1ivf72ffglcg8amu        2019-01-01  \nprpwrccgipqxycq60nbzhx16        2019-01-01  ",
      "text/html": "<div>\n<style scoped>\n    .dataframe tbody tr th:only-of-type {\n        vertical-align: middle;\n    }\n\n    .dataframe tbody tr th {\n        vertical-align: top;\n    }\n\n    .dataframe thead th {\n        text-align: right;\n    }\n</style>\n<table border=\"1\" class=\"dataframe\">\n  <thead>\n    <tr style=\"text-align: right;\">\n      <th></th>\n      <th>email</th>\n      <th>phone</th>\n      <th>name</th>\n      <th>created_at</th>\n      <th>updated_at</th>\n      <th>deleted_at</th>\n      <th>registration_date</th>\n    </tr>\n    <tr>\n      <th>id</th>\n      <th></th>\n      <th></th>\n      <th></th>\n      <th></th>\n      <th></th>\n      <th></th>\n      <th></th>\n    </tr>\n  </thead>\n  <tbody>\n    <tr>\n      <th>qgshprk71u177olqc53amg4g</th>\n      <td>v3jofvd6shvb@class101.net</td>\n      <td>010-3072-0685</td>\n      <td>유서진</td>\n      <td>2019-01-01 02:38:13</td>\n      <td>2020-04-24 09:31:13</td>\n      <td>NaN</td>\n      <td>2019-01-01</td>\n    </tr>\n    <tr>\n      <th>k6ai4dy7cj8uc0xrc6wrf6br</th>\n      <td>g8pqtiwm2r6k@class101.net</td>\n      <td>NaN</td>\n      <td>신소율</td>\n      <td>2019-01-01 02:51:03</td>\n      <td>2020-05-03 01:04:03</td>\n      <td>NaN</td>\n      <td>2019-01-01</td>\n    </tr>\n    <tr>\n      <th>hormvaltnqcihwmdiv1o6bl8</th>\n      <td>c30nexut34hv@class101.net</td>\n      <td>010-4188-1786</td>\n      <td>홍송빈</td>\n      <td>2019-01-01 03:25:40</td>\n      <td>2020-06-03 07:51:40</td>\n      <td>NaN</td>\n      <td>2019-01-01</td>\n    </tr>\n    <tr>\n      <th>wooov9hg1ivf72ffglcg8amu</th>\n      <td>bickbavsvfto@class101.net</td>\n      <td>010-6320-6368</td>\n      <td>백수희</td>\n      <td>2019-01-01 03:44:43</td>\n      <td>2020-06-03 11:40:43</td>\n      <td>NaN</td>\n      <td>2019-01-01</td>\n    </tr>\n    <tr>\n      <th>prpwrccgipqxycq60nbzhx16</th>\n      <td>2myoeg5f86fn@class101.net</td>\n      <td>010-2850-0187</td>\n      <td>윤원일</td>\n      <td>2019-01-01 03:55:32</td>\n      <td>2020-05-30 04:34:32</td>\n      <td>NaN</td>\n      <td>2019-01-01</td>\n    </tr>\n  </tbody>\n</table>\n</div>"
     },
     "execution_count": 4,
     "metadata": {},
     "output_type": "execute_result"
    }
   ],
   "source": [
    "# 판다스(pandas)의 read_csv를 활용하여 클래스101의 사용자(users) 데이터를 저장한 users.csv 를 읽어옵니다.\n",
    "# 여기서 id 컬럼을 이 데이터의 인덱스(index)로 지정합니다.\n",
    "# 이 데이터를 users라는 이름의 변수에 할당합니다.\n",
    "users = pd.read_csv(\"data2/users.csv\", index_col = \"id\")\n",
    "\n",
    "# users 변수에 할당된 데이터의 행렬 사이즈를 출력합니다.\n",
    "# 출력은 (row, column) 으로 표시됩니다.\n",
    "print(users.shape)\n",
    "\n",
    "# head()로 users 데이터의 상위 5개를 띄웁니다.\n",
    "users.head()"
   ]
  },
  {
   "cell_type": "markdown",
   "metadata": {},
   "source": [
    "사용자(```users```) 데이터의 각 컬럼에 대한 설명은 다음과 같습니다.\n",
    "\n",
    "  * ```id``` - 사용자(```users```)의 아이디. 이 컬럼을 인덱스(index)로 활용할 예정입니다.\n",
    "  * ```email``` - 사용자(```users```)의 이메일 정보입니다. 이메일을 기입하지 않을 가능성이 있으며, 이 경우에는 ```None```이라는 값이 들어갑니다. 개인정보 보호를 위해 가명화(Pseudonymisation) 처리하였습니다.\n",
    "  * ```phone``` - 사용자(```users```)의 전화번호입니다. 마찬가지로 전화번호를 기입하지 않을 가능성이 있으며, 이 경우에는 ```None```이라는 값이 들어갑니다.  개인정보 보호를 위해 가명화(Pseudonymisation) 처리하였습니다.\n",
    "  * ```name``` - 사용자(```users```)의 이름입니다. 마찬가지로 개인정보 보호를 위해 가명화(Pseudonymisation) 처리되어 있습니다.\n",
    "  * ```created_at``` - 사용자(```users```) 데이터를 생성(create)한 날짜입니다.\n",
    "  * ```updated_at``` - 사용자(```users```) 데이터를 수정(update)한 날짜입니다.\n",
    "  * ```deleted_at``` - 사용자(```users```) 데이터를 삭제(delete)한 날짜입니다.\n",
    "  * ```registration_date``` - 사용자(```users```) 회원가입을 한 날짜 정보가 담겨 있습니다. ```created_at``` 컬럼에서 연-월-일만 가져온 데이터입니다."
   ]
  },
  {
   "cell_type": "markdown",
   "metadata": {},
   "source": [
    "**클래스(```klasses```) 데이터에 접근하기**\n",
    "\n",
    "그 다음에 접근하고 싶은 데이터는 클래스(```klasses.csv```) 데이터입니다. 이 데이터는 [클래스101](https://class101.net/)에서 진행하고 있는 모든 수업 정보(ex: 이름, 카테고리 등)를 담고 있습니다. 이 데이터와 이후에 나올 클래스 수강권(```klass_tickets```) 데이터를 활용하면 수강생의 클래스 수강 여부를 파악할 수 있습니다."
   ]
  },
  {
   "cell_type": "code",
   "execution_count": 5,
   "metadata": {},
   "outputs": [
    {
     "name": "stdout",
     "output_type": "stream",
     "text": [
      "(10000, 5)\n"
     ]
    },
    {
     "data": {
      "text/plain": "                                       category_id  is_deleted  \\\nid                                                               \n5qyiobiuqwm5of3wjn7b8u3o  3s1rh4dgricnul21gc982fab           0   \nsg0xpv8oz6vtqv75j0uk3mzq  v0ztv9x3af97gbeaqk5alcnu           0   \n0w78clopemxncz6h0aqmnhf3  3s1rh4dgricnul21gc982fab           0   \npv274nmwxb77k79zdddicl88  3s1rh4dgricnul21gc982fab           0   \np3b9n3g8z2vo5ch9u2jkfj38  v0ztv9x3af97gbeaqk5alcnu           0   \n\n                                   created_at           updated_at deleted_at  \nid                                                                             \n5qyiobiuqwm5of3wjn7b8u3o  2019-01-02 13:56:29  2019-01-02 13:56:29        NaN  \nsg0xpv8oz6vtqv75j0uk3mzq  2019-01-02 14:07:58  2019-01-02 14:07:58        NaN  \n0w78clopemxncz6h0aqmnhf3  2019-01-04 12:46:32  2019-01-04 12:46:32        NaN  \npv274nmwxb77k79zdddicl88  2019-01-04 18:59:15  2019-01-04 18:59:15        NaN  \np3b9n3g8z2vo5ch9u2jkfj38  2019-01-04 19:38:56  2019-01-04 19:38:56        NaN  ",
      "text/html": "<div>\n<style scoped>\n    .dataframe tbody tr th:only-of-type {\n        vertical-align: middle;\n    }\n\n    .dataframe tbody tr th {\n        vertical-align: top;\n    }\n\n    .dataframe thead th {\n        text-align: right;\n    }\n</style>\n<table border=\"1\" class=\"dataframe\">\n  <thead>\n    <tr style=\"text-align: right;\">\n      <th></th>\n      <th>category_id</th>\n      <th>is_deleted</th>\n      <th>created_at</th>\n      <th>updated_at</th>\n      <th>deleted_at</th>\n    </tr>\n    <tr>\n      <th>id</th>\n      <th></th>\n      <th></th>\n      <th></th>\n      <th></th>\n      <th></th>\n    </tr>\n  </thead>\n  <tbody>\n    <tr>\n      <th>5qyiobiuqwm5of3wjn7b8u3o</th>\n      <td>3s1rh4dgricnul21gc982fab</td>\n      <td>0</td>\n      <td>2019-01-02 13:56:29</td>\n      <td>2019-01-02 13:56:29</td>\n      <td>NaN</td>\n    </tr>\n    <tr>\n      <th>sg0xpv8oz6vtqv75j0uk3mzq</th>\n      <td>v0ztv9x3af97gbeaqk5alcnu</td>\n      <td>0</td>\n      <td>2019-01-02 14:07:58</td>\n      <td>2019-01-02 14:07:58</td>\n      <td>NaN</td>\n    </tr>\n    <tr>\n      <th>0w78clopemxncz6h0aqmnhf3</th>\n      <td>3s1rh4dgricnul21gc982fab</td>\n      <td>0</td>\n      <td>2019-01-04 12:46:32</td>\n      <td>2019-01-04 12:46:32</td>\n      <td>NaN</td>\n    </tr>\n    <tr>\n      <th>pv274nmwxb77k79zdddicl88</th>\n      <td>3s1rh4dgricnul21gc982fab</td>\n      <td>0</td>\n      <td>2019-01-04 18:59:15</td>\n      <td>2019-01-04 18:59:15</td>\n      <td>NaN</td>\n    </tr>\n    <tr>\n      <th>p3b9n3g8z2vo5ch9u2jkfj38</th>\n      <td>v0ztv9x3af97gbeaqk5alcnu</td>\n      <td>0</td>\n      <td>2019-01-04 19:38:56</td>\n      <td>2019-01-04 19:38:56</td>\n      <td>NaN</td>\n    </tr>\n  </tbody>\n</table>\n</div>"
     },
     "execution_count": 5,
     "metadata": {},
     "output_type": "execute_result"
    }
   ],
   "source": [
    "# 판다스(pandas)의 read_csv를 활용하여 클래스101의 클래스(klasses) 데이터를 저장한 klasses.csv 를 읽어옵니다.\n",
    "# 여기서 id 컬럼을 이 데이터의 인덱스(index)로 지정합니다.\n",
    "# 이 데이터를 klasses라는 이름의 변수에 할당합니다.\n",
    "klasses = pd.read_csv(\"data2/klasses.csv\", index_col = \"id\")\n",
    "\n",
    "# klasses 변수에 할당된 데이터의 행렬 사이즈를 출력합니다.\n",
    "# 출력은 (row, column) 으로 표시됩니다.\n",
    "print(klasses.shape)\n",
    "\n",
    "# head()로 klasses 데이터의 상위 5개를 띄웁니다.\n",
    "klasses.head()"
   ]
  },
  {
   "cell_type": "markdown",
   "metadata": {},
   "source": [
    "클래스(```klasses```) 데이터의 각 컬럼에 대한 설명은 다음과 같습니다.\n",
    "\n",
    "  * ```id``` - 클래스(```klasses```)의 아이디. 이 컬럼을 인덱스(index)로 활용할 예정입니다.\n",
    "  * ```category_id``` - 카테고리(```categories```)의 아이디. 이 컬럼을 활용하여 카테고리(```categories```) 데이터와 연결할 수 있습니다.\n",
    "  * ```is_deleted``` - 해당 클래스(```klasses```)가 삭제되었으면 1이, 삭제되지 않았으면 0이 기록되어있습니다.\n",
    "  * ```created_at``` - 클래스(```klasses```) 데이터를 생성(create)한 날짜입니다.\n",
    "  * ```updated_at``` - 클래스(```klasses```) 데이터를 수정(update)한 날짜입니다.\n",
    "  * ```deleted_at``` - 클래스(```klasses```) 데이터를 삭제(delete)한 날짜입니다."
   ]
  },
  {
   "cell_type": "markdown",
   "metadata": {},
   "source": [
    "**클래스 수강권(```klass_tickets```) 데이터 접근하기**\n",
    "\n",
    "클래스(```klasses```) 데이터를 성공적으로 가져왔다면, 이번에는 클래스 수강권(```klass_tickets.csv```) 데이터에 접근해보겠습니다. 이 데이터는 사용자가 클래스를 수강한 정보를 담고 있으며, 이 데이터에 있는 상세 정보를 활용하는 것은 물론, ```user_id```와 ```klass_id```와 같은 외래키(Foreign Key)를 활용해 사용자(```users```) 데이터와 클래스(```klasss```) 데이터에 접근할 수 있습니다."
   ]
  },
  {
   "cell_type": "code",
   "execution_count": 6,
   "metadata": {},
   "outputs": [
    {
     "name": "stdout",
     "output_type": "stream",
     "text": [
      "(200000, 8)\n"
     ]
    },
    {
     "name": "stderr",
     "output_type": "stream",
     "text": [
      "/Library/Frameworks/Python.framework/Versions/3.8/lib/python3.8/site-packages/IPython/core/interactiveshell.py:3146: DtypeWarning: Columns (8) have mixed types.Specify dtype option on import or set low_memory=False.\n",
      "  has_raised = await self.run_ast_nodes(code_ast.body, cell_name,\n"
     ]
    },
    {
     "data": {
      "text/plain": "                                           user_id                  klass_id  \\\nid                                                                             \n8u4iqyurthy66f1lxzvg2mmo  a2913ovga13eni7ndv63tu5a  x4rvjspfoljtet2j68bk3fcr   \nhywaasrsu2uipjh7hox8btzk  vzv3c8f1ulq64no4ppn9d5e4  x4rvjspfoljtet2j68bk3fcr   \na7a0kmzuiu8lncc5xcdomkd2  kmznsa34yboekgu22r0wihas  x5a9y2o67xgi1a8rdfoopoxk   \n5ddaf8rkhfff4910pwk56vcn  4pi31wvkbx0ffi9pk75ksylj  f49967086xoz3gx2oyeg7i8p   \nkri4yddw8xweaqy1ka9ul7uk  preb085px8f5rpdnm6q7vbhg  foxgzdmllif6j4kc3tfum1zk   \n\n                          available_days  is_paid           created_at  \\\nid                                                                       \n8u4iqyurthy66f1lxzvg2mmo           393.0        0  2019-01-01 07:17:34   \nhywaasrsu2uipjh7hox8btzk           900.0        0  2019-03-08 12:33:29   \na7a0kmzuiu8lncc5xcdomkd2           112.0        0  2019-03-11 14:06:11   \n5ddaf8rkhfff4910pwk56vcn           112.0        0  2019-03-11 15:16:52   \nkri4yddw8xweaqy1ka9ul7uk           112.0        0  2019-03-11 18:00:07   \n\n                                   updated_at          finished_at deleted_at  \nid                                                                             \n8u4iqyurthy66f1lxzvg2mmo  2019-08-01 07:17:34  2020-01-29 07:17:34        NaN  \nhywaasrsu2uipjh7hox8btzk  2019-07-17 07:59:29  2021-08-24 12:33:29        NaN  \na7a0kmzuiu8lncc5xcdomkd2  2019-04-08 16:16:11  2019-07-01 14:06:11        NaN  \n5ddaf8rkhfff4910pwk56vcn  2019-03-25 17:52:52  2019-07-01 15:16:52        NaN  \nkri4yddw8xweaqy1ka9ul7uk  2019-03-25 23:44:07  2019-07-01 18:00:07        NaN  ",
      "text/html": "<div>\n<style scoped>\n    .dataframe tbody tr th:only-of-type {\n        vertical-align: middle;\n    }\n\n    .dataframe tbody tr th {\n        vertical-align: top;\n    }\n\n    .dataframe thead th {\n        text-align: right;\n    }\n</style>\n<table border=\"1\" class=\"dataframe\">\n  <thead>\n    <tr style=\"text-align: right;\">\n      <th></th>\n      <th>user_id</th>\n      <th>klass_id</th>\n      <th>available_days</th>\n      <th>is_paid</th>\n      <th>created_at</th>\n      <th>updated_at</th>\n      <th>finished_at</th>\n      <th>deleted_at</th>\n    </tr>\n    <tr>\n      <th>id</th>\n      <th></th>\n      <th></th>\n      <th></th>\n      <th></th>\n      <th></th>\n      <th></th>\n      <th></th>\n      <th></th>\n    </tr>\n  </thead>\n  <tbody>\n    <tr>\n      <th>8u4iqyurthy66f1lxzvg2mmo</th>\n      <td>a2913ovga13eni7ndv63tu5a</td>\n      <td>x4rvjspfoljtet2j68bk3fcr</td>\n      <td>393.0</td>\n      <td>0</td>\n      <td>2019-01-01 07:17:34</td>\n      <td>2019-08-01 07:17:34</td>\n      <td>2020-01-29 07:17:34</td>\n      <td>NaN</td>\n    </tr>\n    <tr>\n      <th>hywaasrsu2uipjh7hox8btzk</th>\n      <td>vzv3c8f1ulq64no4ppn9d5e4</td>\n      <td>x4rvjspfoljtet2j68bk3fcr</td>\n      <td>900.0</td>\n      <td>0</td>\n      <td>2019-03-08 12:33:29</td>\n      <td>2019-07-17 07:59:29</td>\n      <td>2021-08-24 12:33:29</td>\n      <td>NaN</td>\n    </tr>\n    <tr>\n      <th>a7a0kmzuiu8lncc5xcdomkd2</th>\n      <td>kmznsa34yboekgu22r0wihas</td>\n      <td>x5a9y2o67xgi1a8rdfoopoxk</td>\n      <td>112.0</td>\n      <td>0</td>\n      <td>2019-03-11 14:06:11</td>\n      <td>2019-04-08 16:16:11</td>\n      <td>2019-07-01 14:06:11</td>\n      <td>NaN</td>\n    </tr>\n    <tr>\n      <th>5ddaf8rkhfff4910pwk56vcn</th>\n      <td>4pi31wvkbx0ffi9pk75ksylj</td>\n      <td>f49967086xoz3gx2oyeg7i8p</td>\n      <td>112.0</td>\n      <td>0</td>\n      <td>2019-03-11 15:16:52</td>\n      <td>2019-03-25 17:52:52</td>\n      <td>2019-07-01 15:16:52</td>\n      <td>NaN</td>\n    </tr>\n    <tr>\n      <th>kri4yddw8xweaqy1ka9ul7uk</th>\n      <td>preb085px8f5rpdnm6q7vbhg</td>\n      <td>foxgzdmllif6j4kc3tfum1zk</td>\n      <td>112.0</td>\n      <td>0</td>\n      <td>2019-03-11 18:00:07</td>\n      <td>2019-03-25 23:44:07</td>\n      <td>2019-07-01 18:00:07</td>\n      <td>NaN</td>\n    </tr>\n  </tbody>\n</table>\n</div>"
     },
     "execution_count": 6,
     "metadata": {},
     "output_type": "execute_result"
    }
   ],
   "source": [
    "# 판다스(pandas)의 read_csv를 활용하여 클래스101의 클래스 수강권(klass_tickets) 데이터를 저장한 klass_tickets.csv 를 읽어옵니다.\n",
    "# 여기서 id 컬럼을 이 데이터의 인덱스(index)로 지정합니다.\n",
    "# 이 데이터를 klass_tickets라는 이름의 변수에 할당합니다.\n",
    "klass_tickets = pd.read_csv(\"data2/klass_tickets.csv\", index_col = \"id\")\n",
    "\n",
    "# klass_tickets 변수에 할당된 데이터의 행렬 사이즈를 출력합니다.\n",
    "# 출력은 (row, column) 으로 표시됩니다.\n",
    "print(klass_tickets.shape)\n",
    "\n",
    "# head()로 klass_tickets 데이터의 상위 5개를 띄웁니다.\n",
    "klass_tickets.head()"
   ]
  },
  {
   "cell_type": "markdown",
   "metadata": {},
   "source": [
    "클래스 수강권(```klass_tickets```) 데이터의 각 컬럼에 대한 설명은 다음과 같습니다.\n",
    "\n",
    "  * ```id``` - 클래스 수강권(```klass_tickets```)의 아이디. 이 컬럼을 인덱스(index)로 활용할 예정입니다.\n",
    "  * ```user_id``` - 사용자(```useres```)의 아이디입니다. 이 컬럼을 활용하여 사용자(```useres```) 데이터와 연결할 수 있습니다.\n",
    "  * ```klass_id``` - 클래스(```klasses```)의 아이디입니다. 이 컬럼을 활용하여 클래스(```klasses```) 데이터와 연결할 수 있습니다.\n",
    "  * ```available_days``` - 해당 수강권(```klass_ticketes```)의 유효기간입니다. 일(day)로 기록되어 있습니다. (즉, 300일은 수강권이 개시된 날짜로부터 300일 동안 유효한 수강권이라는 의미)\n",
    "  * ```is_paid``` - 수강권(```klass_ticketes```)의 구매 여부입니다. 구매하였으면 1이, 구매하지 않았으면 0이 기록되어 있습니다.\n",
    "  * ```created_at``` - 수강권(```klass_ticketes```) 데이터를 생성(create)한 날짜입니다.\n",
    "  * ```updated_at``` - 수강권(```klass_ticketes```) 데이터를 수정(update)한 날짜입니다.\n",
    "  * ```finished``` - 수강권(```klass_ticketes```)이 만료되는 날짜입니다.\n",
    "  * ```deleted_at``` - 수강권(```klass_ticketes```) 데이터를 삭제(delete)한 날짜입니다."
   ]
  },
  {
   "cell_type": "markdown",
   "metadata": {},
   "source": [
    "**카테고리(```categories```) 데이터에 접근하기**\n",
    "\n",
    "마지막으로 접근하고 싶은 데이터는 카테고리(```categories```) 데이터입니다. 이 데이터는 [클래스101](https://class101.net/)에서 진행하고 있는 모든 수업의 카테고리(ex: 요리, 운동, 디자인, 커리어 등)에 대한 정보를 담고 있습니다. 이 데이터와 앞서 언급한 클래스(```klasses```) 데이터를 연결하면 수업 카테고리마다의 세부 통계치(ex: 신규 수강생, 누적 수강생 등)를 파악할 수 있습니다."
   ]
  },
  {
   "cell_type": "code",
   "execution_count": 7,
   "metadata": {},
   "outputs": [
    {
     "ename": "FileNotFoundError",
     "evalue": "[Errno 2] No such file or directory: 'data/categories.csv'",
     "output_type": "error",
     "traceback": [
      "\u001B[0;31m---------------------------------------------------------------------------\u001B[0m",
      "\u001B[0;31mFileNotFoundError\u001B[0m                         Traceback (most recent call last)",
      "\u001B[0;32m<ipython-input-7-49c4c7faf33d>\u001B[0m in \u001B[0;36m<module>\u001B[0;34m\u001B[0m\n\u001B[1;32m      2\u001B[0m \u001B[0;31m# 여기서 id 컬럼을 이 데이터 의 인덱스(index)로 지정합니다.\u001B[0m\u001B[0;34m\u001B[0m\u001B[0;34m\u001B[0m\u001B[0;34m\u001B[0m\u001B[0m\n\u001B[1;32m      3\u001B[0m \u001B[0;31m# 이 데이터를 categories라는 이름의 변수에 할당합니다.\u001B[0m\u001B[0;34m\u001B[0m\u001B[0;34m\u001B[0m\u001B[0;34m\u001B[0m\u001B[0m\n\u001B[0;32m----> 4\u001B[0;31m \u001B[0mcategories\u001B[0m \u001B[0;34m=\u001B[0m \u001B[0mpd\u001B[0m\u001B[0;34m.\u001B[0m\u001B[0mread_csv\u001B[0m\u001B[0;34m(\u001B[0m\u001B[0;34m\"data/categories.csv\"\u001B[0m\u001B[0;34m,\u001B[0m \u001B[0mindex_col\u001B[0m \u001B[0;34m=\u001B[0m \u001B[0;34m\"id\"\u001B[0m\u001B[0;34m)\u001B[0m\u001B[0;34m\u001B[0m\u001B[0;34m\u001B[0m\u001B[0m\n\u001B[0m\u001B[1;32m      5\u001B[0m \u001B[0;34m\u001B[0m\u001B[0m\n\u001B[1;32m      6\u001B[0m \u001B[0;31m# categories 변수에 할당된 데이터의 행렬 사이즈를 출력합니다.\u001B[0m\u001B[0;34m\u001B[0m\u001B[0;34m\u001B[0m\u001B[0;34m\u001B[0m\u001B[0m\n",
      "\u001B[0;32m/Library/Frameworks/Python.framework/Versions/3.8/lib/python3.8/site-packages/pandas/io/parsers.py\u001B[0m in \u001B[0;36mread_csv\u001B[0;34m(filepath_or_buffer, sep, delimiter, header, names, index_col, usecols, squeeze, prefix, mangle_dupe_cols, dtype, engine, converters, true_values, false_values, skipinitialspace, skiprows, skipfooter, nrows, na_values, keep_default_na, na_filter, verbose, skip_blank_lines, parse_dates, infer_datetime_format, keep_date_col, date_parser, dayfirst, cache_dates, iterator, chunksize, compression, thousands, decimal, lineterminator, quotechar, quoting, doublequote, escapechar, comment, encoding, dialect, error_bad_lines, warn_bad_lines, delim_whitespace, low_memory, memory_map, float_precision, storage_options)\u001B[0m\n\u001B[1;32m    603\u001B[0m     \u001B[0mkwds\u001B[0m\u001B[0;34m.\u001B[0m\u001B[0mupdate\u001B[0m\u001B[0;34m(\u001B[0m\u001B[0mkwds_defaults\u001B[0m\u001B[0;34m)\u001B[0m\u001B[0;34m\u001B[0m\u001B[0;34m\u001B[0m\u001B[0m\n\u001B[1;32m    604\u001B[0m \u001B[0;34m\u001B[0m\u001B[0m\n\u001B[0;32m--> 605\u001B[0;31m     \u001B[0;32mreturn\u001B[0m \u001B[0m_read\u001B[0m\u001B[0;34m(\u001B[0m\u001B[0mfilepath_or_buffer\u001B[0m\u001B[0;34m,\u001B[0m \u001B[0mkwds\u001B[0m\u001B[0;34m)\u001B[0m\u001B[0;34m\u001B[0m\u001B[0;34m\u001B[0m\u001B[0m\n\u001B[0m\u001B[1;32m    606\u001B[0m \u001B[0;34m\u001B[0m\u001B[0m\n\u001B[1;32m    607\u001B[0m \u001B[0;34m\u001B[0m\u001B[0m\n",
      "\u001B[0;32m/Library/Frameworks/Python.framework/Versions/3.8/lib/python3.8/site-packages/pandas/io/parsers.py\u001B[0m in \u001B[0;36m_read\u001B[0;34m(filepath_or_buffer, kwds)\u001B[0m\n\u001B[1;32m    455\u001B[0m \u001B[0;34m\u001B[0m\u001B[0m\n\u001B[1;32m    456\u001B[0m     \u001B[0;31m# Create the parser.\u001B[0m\u001B[0;34m\u001B[0m\u001B[0;34m\u001B[0m\u001B[0;34m\u001B[0m\u001B[0m\n\u001B[0;32m--> 457\u001B[0;31m     \u001B[0mparser\u001B[0m \u001B[0;34m=\u001B[0m \u001B[0mTextFileReader\u001B[0m\u001B[0;34m(\u001B[0m\u001B[0mfilepath_or_buffer\u001B[0m\u001B[0;34m,\u001B[0m \u001B[0;34m**\u001B[0m\u001B[0mkwds\u001B[0m\u001B[0;34m)\u001B[0m\u001B[0;34m\u001B[0m\u001B[0;34m\u001B[0m\u001B[0m\n\u001B[0m\u001B[1;32m    458\u001B[0m \u001B[0;34m\u001B[0m\u001B[0m\n\u001B[1;32m    459\u001B[0m     \u001B[0;32mif\u001B[0m \u001B[0mchunksize\u001B[0m \u001B[0;32mor\u001B[0m \u001B[0miterator\u001B[0m\u001B[0;34m:\u001B[0m\u001B[0;34m\u001B[0m\u001B[0;34m\u001B[0m\u001B[0m\n",
      "\u001B[0;32m/Library/Frameworks/Python.framework/Versions/3.8/lib/python3.8/site-packages/pandas/io/parsers.py\u001B[0m in \u001B[0;36m__init__\u001B[0;34m(self, f, engine, **kwds)\u001B[0m\n\u001B[1;32m    812\u001B[0m             \u001B[0mself\u001B[0m\u001B[0;34m.\u001B[0m\u001B[0moptions\u001B[0m\u001B[0;34m[\u001B[0m\u001B[0;34m\"has_index_names\"\u001B[0m\u001B[0;34m]\u001B[0m \u001B[0;34m=\u001B[0m \u001B[0mkwds\u001B[0m\u001B[0;34m[\u001B[0m\u001B[0;34m\"has_index_names\"\u001B[0m\u001B[0;34m]\u001B[0m\u001B[0;34m\u001B[0m\u001B[0;34m\u001B[0m\u001B[0m\n\u001B[1;32m    813\u001B[0m \u001B[0;34m\u001B[0m\u001B[0m\n\u001B[0;32m--> 814\u001B[0;31m         \u001B[0mself\u001B[0m\u001B[0;34m.\u001B[0m\u001B[0m_engine\u001B[0m \u001B[0;34m=\u001B[0m \u001B[0mself\u001B[0m\u001B[0;34m.\u001B[0m\u001B[0m_make_engine\u001B[0m\u001B[0;34m(\u001B[0m\u001B[0mself\u001B[0m\u001B[0;34m.\u001B[0m\u001B[0mengine\u001B[0m\u001B[0;34m)\u001B[0m\u001B[0;34m\u001B[0m\u001B[0;34m\u001B[0m\u001B[0m\n\u001B[0m\u001B[1;32m    815\u001B[0m \u001B[0;34m\u001B[0m\u001B[0m\n\u001B[1;32m    816\u001B[0m     \u001B[0;32mdef\u001B[0m \u001B[0mclose\u001B[0m\u001B[0;34m(\u001B[0m\u001B[0mself\u001B[0m\u001B[0;34m)\u001B[0m\u001B[0;34m:\u001B[0m\u001B[0;34m\u001B[0m\u001B[0;34m\u001B[0m\u001B[0m\n",
      "\u001B[0;32m/Library/Frameworks/Python.framework/Versions/3.8/lib/python3.8/site-packages/pandas/io/parsers.py\u001B[0m in \u001B[0;36m_make_engine\u001B[0;34m(self, engine)\u001B[0m\n\u001B[1;32m   1043\u001B[0m             )\n\u001B[1;32m   1044\u001B[0m         \u001B[0;31m# error: Too many arguments for \"ParserBase\"\u001B[0m\u001B[0;34m\u001B[0m\u001B[0;34m\u001B[0m\u001B[0;34m\u001B[0m\u001B[0m\n\u001B[0;32m-> 1045\u001B[0;31m         \u001B[0;32mreturn\u001B[0m \u001B[0mmapping\u001B[0m\u001B[0;34m[\u001B[0m\u001B[0mengine\u001B[0m\u001B[0;34m]\u001B[0m\u001B[0;34m(\u001B[0m\u001B[0mself\u001B[0m\u001B[0;34m.\u001B[0m\u001B[0mf\u001B[0m\u001B[0;34m,\u001B[0m \u001B[0;34m**\u001B[0m\u001B[0mself\u001B[0m\u001B[0;34m.\u001B[0m\u001B[0moptions\u001B[0m\u001B[0;34m)\u001B[0m  \u001B[0;31m# type: ignore[call-arg]\u001B[0m\u001B[0;34m\u001B[0m\u001B[0;34m\u001B[0m\u001B[0m\n\u001B[0m\u001B[1;32m   1046\u001B[0m \u001B[0;34m\u001B[0m\u001B[0m\n\u001B[1;32m   1047\u001B[0m     \u001B[0;32mdef\u001B[0m \u001B[0m_failover_to_python\u001B[0m\u001B[0;34m(\u001B[0m\u001B[0mself\u001B[0m\u001B[0;34m)\u001B[0m\u001B[0;34m:\u001B[0m\u001B[0;34m\u001B[0m\u001B[0;34m\u001B[0m\u001B[0m\n",
      "\u001B[0;32m/Library/Frameworks/Python.framework/Versions/3.8/lib/python3.8/site-packages/pandas/io/parsers.py\u001B[0m in \u001B[0;36m__init__\u001B[0;34m(self, src, **kwds)\u001B[0m\n\u001B[1;32m   1860\u001B[0m \u001B[0;34m\u001B[0m\u001B[0m\n\u001B[1;32m   1861\u001B[0m         \u001B[0;31m# open handles\u001B[0m\u001B[0;34m\u001B[0m\u001B[0;34m\u001B[0m\u001B[0;34m\u001B[0m\u001B[0m\n\u001B[0;32m-> 1862\u001B[0;31m         \u001B[0mself\u001B[0m\u001B[0;34m.\u001B[0m\u001B[0m_open_handles\u001B[0m\u001B[0;34m(\u001B[0m\u001B[0msrc\u001B[0m\u001B[0;34m,\u001B[0m \u001B[0mkwds\u001B[0m\u001B[0;34m)\u001B[0m\u001B[0;34m\u001B[0m\u001B[0;34m\u001B[0m\u001B[0m\n\u001B[0m\u001B[1;32m   1863\u001B[0m         \u001B[0;32massert\u001B[0m \u001B[0mself\u001B[0m\u001B[0;34m.\u001B[0m\u001B[0mhandles\u001B[0m \u001B[0;32mis\u001B[0m \u001B[0;32mnot\u001B[0m \u001B[0;32mNone\u001B[0m\u001B[0;34m\u001B[0m\u001B[0;34m\u001B[0m\u001B[0m\n\u001B[1;32m   1864\u001B[0m         \u001B[0;32mfor\u001B[0m \u001B[0mkey\u001B[0m \u001B[0;32min\u001B[0m \u001B[0;34m(\u001B[0m\u001B[0;34m\"storage_options\"\u001B[0m\u001B[0;34m,\u001B[0m \u001B[0;34m\"encoding\"\u001B[0m\u001B[0;34m,\u001B[0m \u001B[0;34m\"memory_map\"\u001B[0m\u001B[0;34m,\u001B[0m \u001B[0;34m\"compression\"\u001B[0m\u001B[0;34m)\u001B[0m\u001B[0;34m:\u001B[0m\u001B[0;34m\u001B[0m\u001B[0;34m\u001B[0m\u001B[0m\n",
      "\u001B[0;32m/Library/Frameworks/Python.framework/Versions/3.8/lib/python3.8/site-packages/pandas/io/parsers.py\u001B[0m in \u001B[0;36m_open_handles\u001B[0;34m(self, src, kwds)\u001B[0m\n\u001B[1;32m   1355\u001B[0m         \u001B[0mLet\u001B[0m \u001B[0mthe\u001B[0m \u001B[0mreaders\u001B[0m \u001B[0mopen\u001B[0m \u001B[0mIOHanldes\u001B[0m \u001B[0mafter\u001B[0m \u001B[0mthey\u001B[0m \u001B[0mare\u001B[0m \u001B[0mdone\u001B[0m \u001B[0;32mwith\u001B[0m \u001B[0mtheir\u001B[0m \u001B[0mpotential\u001B[0m \u001B[0mraises\u001B[0m\u001B[0;34m.\u001B[0m\u001B[0;34m\u001B[0m\u001B[0;34m\u001B[0m\u001B[0m\n\u001B[1;32m   1356\u001B[0m         \"\"\"\n\u001B[0;32m-> 1357\u001B[0;31m         self.handles = get_handle(\n\u001B[0m\u001B[1;32m   1358\u001B[0m             \u001B[0msrc\u001B[0m\u001B[0;34m,\u001B[0m\u001B[0;34m\u001B[0m\u001B[0;34m\u001B[0m\u001B[0m\n\u001B[1;32m   1359\u001B[0m             \u001B[0;34m\"r\"\u001B[0m\u001B[0;34m,\u001B[0m\u001B[0;34m\u001B[0m\u001B[0;34m\u001B[0m\u001B[0m\n",
      "\u001B[0;32m/Library/Frameworks/Python.framework/Versions/3.8/lib/python3.8/site-packages/pandas/io/common.py\u001B[0m in \u001B[0;36mget_handle\u001B[0;34m(path_or_buf, mode, encoding, compression, memory_map, is_text, errors, storage_options)\u001B[0m\n\u001B[1;32m    637\u001B[0m         \u001B[0;32mif\u001B[0m \u001B[0mioargs\u001B[0m\u001B[0;34m.\u001B[0m\u001B[0mencoding\u001B[0m \u001B[0;32mand\u001B[0m \u001B[0;34m\"b\"\u001B[0m \u001B[0;32mnot\u001B[0m \u001B[0;32min\u001B[0m \u001B[0mioargs\u001B[0m\u001B[0;34m.\u001B[0m\u001B[0mmode\u001B[0m\u001B[0;34m:\u001B[0m\u001B[0;34m\u001B[0m\u001B[0;34m\u001B[0m\u001B[0m\n\u001B[1;32m    638\u001B[0m             \u001B[0;31m# Encoding\u001B[0m\u001B[0;34m\u001B[0m\u001B[0;34m\u001B[0m\u001B[0;34m\u001B[0m\u001B[0m\n\u001B[0;32m--> 639\u001B[0;31m             handle = open(\n\u001B[0m\u001B[1;32m    640\u001B[0m                 \u001B[0mhandle\u001B[0m\u001B[0;34m,\u001B[0m\u001B[0;34m\u001B[0m\u001B[0;34m\u001B[0m\u001B[0m\n\u001B[1;32m    641\u001B[0m                 \u001B[0mioargs\u001B[0m\u001B[0;34m.\u001B[0m\u001B[0mmode\u001B[0m\u001B[0;34m,\u001B[0m\u001B[0;34m\u001B[0m\u001B[0;34m\u001B[0m\u001B[0m\n",
      "\u001B[0;31mFileNotFoundError\u001B[0m: [Errno 2] No such file or directory: 'data/categories.csv'"
     ]
    }
   ],
   "source": [
    "# 판다스(pandas)의 read_csv를 활용하여 클래스101의 카테고리(categories) 데이터를 저장한 categories.csv 를 읽어옵니다.\n",
    "# 여기서 id 컬럼을 이 데이터 의 인덱스(index)로 지정합니다.\n",
    "# 이 데이터를 categories라는 이름의 변수에 할당합니다.\n",
    "categories = pd.read_csv(\"data/categories.csv\", index_col = \"id\")\n",
    "\n",
    "# categories 변수에 할당된 데이터의 행렬 사이즈를 출력합니다.\n",
    "# 출력은 (row, column) 으로 표시됩니다.\n",
    "print(categories.shape)\n",
    "\n",
    "# head()로 categories 데이터의 상위 5개를 띄웁니다.\n",
    "categories.head()"
   ]
  },
  {
   "cell_type": "markdown",
   "metadata": {},
   "source": [
    "카테고리(```categories```) 데이터의 각 컬럼에 대한 설명은 다음과 같습니다.\n",
    "\n",
    "  * ```id``` - 카테고리(```categories```)의 아이디. 이 컬럼을 인덱스(index)로 활용할 예정입니다.\n",
    "  * ```title``` - 카테고리(```categories```)의 제목입니다. ```요리```, ```운동```, ```디자인```, ```커리어``` 등 총 41개의 카테고리가 존재합니다."
   ]
  },
  {
   "cell_type": "markdown",
   "metadata": {},
   "source": [
    "### 데이터 정리\n",
    "\n",
    "가장 먼저 데이터를 정리하는(Data Cleaning) 업무부터 시작하겠습니다. 데이터를 분석하기 전, 사전에 데이터를 깔끔하게 정리하는 과정을 거쳐야 데이터를 수월하게 분석할 수 있습니다. (실제 현업에서 활동하는 데이터 분석가(Data Analyst)는 전체 업무 시간의 50% ~ 70%를 데이터를 정리하는데 사용합니다)\n",
    "\n",
    "만일 파이썬과 판다스를 능숙하게 사용할 수 있다면 남들보다 빠르게 데이터를 정리하고 분석할 수 있습니다. 반면 파이썬과 판다스를 능숙하게 사용할 수 없다면, 남들보다 데이터를 정리하는데 시간이 오래 걸리게 되고 이는 곧 생산성의 차이로 이어집니다. 그러므로 빠른 시간 안에 효율적으로 데이터를 정리하는 스킬은 무엇보다도 중요합니다.\n",
    "\n",
    "먼저 클래스101의 데이터에서 정리가 필요한 몇몇 부분을 다뤄보겠습니다."
   ]
  },
  {
   "cell_type": "markdown",
   "metadata": {},
   "source": [
    "**1. 사용자(```users```) 데이터의 날짜 정보를 ```datetime``` 형태로 변환해주세요.**\n",
    "\n",
    "사용자 데이터에는 날짜와 시간(```datetime```) 정보를 저장한 총 네 개의 컬럼이 있습니다.\n",
    "\n",
    "  * ```created_at``` - 사용자(```users```) 데이터를 생성(create)한 날짜입니다.\n",
    "  * ```updated_at``` - 사용자(```users```) 데이터를 수정(update)한 날짜입니다.\n",
    "  * ```deleted_at``` - 사용자(```users```) 데이터를 삭제(delete)한 날짜입니다.\n",
    "  * ```registration_date``` - 사용자(```users```) 회원가입을 한 날짜 정보가 담겨 있습니다. ```created_at``` 컬럼에서 연-월-일만 가져온 데이터입니다.\n",
    "\n",
    "이 컬럼은 날짜(또는 날짜와 시간) 데이터를 저장하고 있는데, 이 컬럼을 활용하여 1) 월별 신규 사용자 또는 2) 시간당 신규 사용자 등의 패턴을 분석할 수 있습니다.\n",
    "\n",
    "문제는, 판다스에서 처음 이 컬럼을 읽어왔을 때는 날짜와 시간(```datetime```) 형태로 저장되어 있는 것이 아닌, 문자열(```string```, ```str```) 형태로 저장이 되어있습니다. 그러므로 이 컬럼의 형태를 날짜와 시간(```datetime```)으로 변경해줘야, 이후 이 컬럼을 데이터를 분석할 때 용이하게 사용할 수 있습니다.\n",
    "\n",
    "그런 의미에서 ```created_at```, ```updated_at```, ```deleted_at```, ```registration_date``` 이렇게 네 개의 컬럼의 타임을 ```datetime```으로 변경해주세요. 변경 후 판다스(Pandas)의 [dtypes](https://pandas.pydata.org/pandas-docs/stable/reference/api/pandas.DataFrame.dtypes.html) 기능을 실행하면 다음과 같은 결과가 나와야 합니다. (ex: ```users.dtypes```)"
   ]
  },
  {
   "cell_type": "markdown",
   "metadata": {},
   "source": [
    "<pre>\n",
    "email                        object\n",
    "phone                        object\n",
    "name                         object\n",
    "created_at           datetime64[ns]\n",
    "updated_at           datetime64[ns]\n",
    "deleted_at           datetime64[ns]\n",
    "registration_date    datetime64[ns]\n",
    "dtype: object\n",
    "</pre>"
   ]
  },
  {
   "cell_type": "markdown",
   "metadata": {},
   "source": [
    "PS) 판다스(Pandas)의 [to_datetime](https://pandas.pydata.org/pandas-docs/stable/reference/api/pandas.to_datetime.html) 기능을 사용하면 손쉽게 컬럼의 형태를 ```datetime```으로 변경해줄 수 있습니다."
   ]
  },
  {
   "cell_type": "markdown",
   "source": [
    "1번 문제\n",
    "데이터 클리닝"
   ],
   "metadata": {
    "collapsed": false,
    "pycharm": {
     "name": "#%% md\n"
    }
   }
  },
  {
   "cell_type": "code",
   "execution_count": 9,
   "metadata": {},
   "outputs": [
    {
     "data": {
      "text/plain": "email                        object\nphone                        object\nname                         object\ncreated_at           datetime64[ns]\nupdated_at           datetime64[ns]\ndeleted_at           datetime64[ns]\nregistration_date    datetime64[ns]\ndtype: object"
     },
     "execution_count": 9,
     "metadata": {},
     "output_type": "execute_result"
    }
   ],
   "source": [
    "users['created_at'] = pd.to_datetime(users['created_at'])\n",
    "users['updated_at'] = pd.to_datetime(users['updated_at'])\n",
    "users['deleted_at'] = pd.to_datetime(users['deleted_at'])\n",
    "users['registration_date'] = pd.to_datetime(users['registration_date'])\n",
    "\n",
    "users.dtypes"
   ]
  },
  {
   "cell_type": "markdown",
   "metadata": {},
   "source": [
    "**2. 클래스(```klasses```) 데이터의 ```is_deleted``` 컬럼 값을 ```0```, ```1```에서 ```True```, ```False```로 바꿔주세요.**\n",
    "\n",
    "이번에는 클래스(```klasses```) 데이터의 ```is_deleted``` 컬럼을 정리해보겠습니다. 이 컬럼은 해당 클래스(```klasses```)가 삭제되었는지 여부를 나타내는 컬럼인데, 클래스가 삭제되었으면 ```1```이, 삭제되지 않았으면 ```0```이라는 값을 기록합니다.\n",
    "\n",
    "이 컬럼을 그대로 사용하는 것도 가능하지만, 직관적이고 가독성을 높이기 위해서, 값을 ```1```, ```0```이 아닌 ```True```, ```False```로 변경하고 싶습니다. 최종적으로 다음의 결과가 나와야 합니다."
   ]
  },
  {
   "cell_type": "markdown",
   "metadata": {},
   "source": [
    "<table border=\"1\" class=\"dataframe\" style=\"float: left;\">\n",
    "\t<thead>\n",
    "\t\t<tr style=\"text-align: right;\">\n",
    "\t\t\t<th></th>\n",
    "\t\t\t<th>is_deleted</th>\n",
    "\t\t\t<th>is_deleted(bool)</th>\n",
    "\t\t</tr>\n",
    "\t\t<tr>\n",
    "\t\t\t<th>id</th>\n",
    "\t\t\t<th></th>\n",
    "\t\t\t<th></th>\n",
    "\t\t</tr>\n",
    "\t</thead>\n",
    "\t<tbody>\n",
    "\t\t<tr>\n",
    "\t\t\t<th>5qyiobiuqwm5of3wjn7b8u3o</th>\n",
    "\t\t\t<td>0</td>\n",
    "\t\t\t<td>False</td>\n",
    "\t\t</tr>\n",
    "\t\t<tr>\n",
    "\t\t\t<th>sg0xpv8oz6vtqv75j0uk3mzq</th>\n",
    "\t\t\t<td>0</td>\n",
    "\t\t\t<td>False</td>\n",
    "\t\t</tr>\n",
    "\t\t<tr>\n",
    "\t\t\t<th>0w78clopemxncz6h0aqmnhf3</th>\n",
    "\t\t\t<td>0</td>\n",
    "\t\t\t<td>False</td>\n",
    "\t\t</tr>\n",
    "\t\t<tr>\n",
    "\t\t\t<th>pv274nmwxb77k79zdddicl88</th>\n",
    "\t\t\t<td>0</td>\n",
    "\t\t\t<td>False</td>\n",
    "\t\t</tr>\n",
    "\t\t<tr>\n",
    "\t\t\t<th>p3b9n3g8z2vo5ch9u2jkfj38</th>\n",
    "\t\t\t<td>0</td>\n",
    "\t\t\t<td>False</td>\n",
    "\t\t</tr>\n",
    "\t</tbody>\n",
    "</table>"
   ]
  },
  {
   "cell_type": "markdown",
   "metadata": {},
   "source": [
    "PS) 판다스(Pandas)의 [replace](https://pandas.pydata.org/pandas-docs/stable/reference/api/pandas.Series.replace.html) 기능을 사용하면 손쉽게 데이터를 ```1```, ```0```에서 ```True```, ```False```로 변경할 수 있습니다."
   ]
  },
  {
   "cell_type": "code",
   "execution_count": 11,
   "metadata": {},
   "outputs": [
    {
     "data": {
      "text/plain": "                          is_deleted(bool)  is_deleted\nid                                                    \n5qyiobiuqwm5of3wjn7b8u3o             False           0\nsg0xpv8oz6vtqv75j0uk3mzq             False           0\n0w78clopemxncz6h0aqmnhf3             False           0\npv274nmwxb77k79zdddicl88             False           0\np3b9n3g8z2vo5ch9u2jkfj38             False           0\n...                                    ...         ...\n836nvwsbzchxisdjbxhrppyt             False           0\nv11voj83iqyev0vg2v2rkbef             False           0\n7wprk9y73zbhu9vmq4h0b6el             False           0\nl98p2egp30baecci5av89hyq             False           0\nw8znu3lepn125frswmj1nlag             False           0\n\n[10000 rows x 2 columns]",
      "text/html": "<div>\n<style scoped>\n    .dataframe tbody tr th:only-of-type {\n        vertical-align: middle;\n    }\n\n    .dataframe tbody tr th {\n        vertical-align: top;\n    }\n\n    .dataframe thead th {\n        text-align: right;\n    }\n</style>\n<table border=\"1\" class=\"dataframe\">\n  <thead>\n    <tr style=\"text-align: right;\">\n      <th></th>\n      <th>is_deleted(bool)</th>\n      <th>is_deleted</th>\n    </tr>\n    <tr>\n      <th>id</th>\n      <th></th>\n      <th></th>\n    </tr>\n  </thead>\n  <tbody>\n    <tr>\n      <th>5qyiobiuqwm5of3wjn7b8u3o</th>\n      <td>False</td>\n      <td>0</td>\n    </tr>\n    <tr>\n      <th>sg0xpv8oz6vtqv75j0uk3mzq</th>\n      <td>False</td>\n      <td>0</td>\n    </tr>\n    <tr>\n      <th>0w78clopemxncz6h0aqmnhf3</th>\n      <td>False</td>\n      <td>0</td>\n    </tr>\n    <tr>\n      <th>pv274nmwxb77k79zdddicl88</th>\n      <td>False</td>\n      <td>0</td>\n    </tr>\n    <tr>\n      <th>p3b9n3g8z2vo5ch9u2jkfj38</th>\n      <td>False</td>\n      <td>0</td>\n    </tr>\n    <tr>\n      <th>...</th>\n      <td>...</td>\n      <td>...</td>\n    </tr>\n    <tr>\n      <th>836nvwsbzchxisdjbxhrppyt</th>\n      <td>False</td>\n      <td>0</td>\n    </tr>\n    <tr>\n      <th>v11voj83iqyev0vg2v2rkbef</th>\n      <td>False</td>\n      <td>0</td>\n    </tr>\n    <tr>\n      <th>7wprk9y73zbhu9vmq4h0b6el</th>\n      <td>False</td>\n      <td>0</td>\n    </tr>\n    <tr>\n      <th>l98p2egp30baecci5av89hyq</th>\n      <td>False</td>\n      <td>0</td>\n    </tr>\n    <tr>\n      <th>w8znu3lepn125frswmj1nlag</th>\n      <td>False</td>\n      <td>0</td>\n    </tr>\n  </tbody>\n</table>\n<p>10000 rows × 2 columns</p>\n</div>"
     },
     "execution_count": 11,
     "metadata": {},
     "output_type": "execute_result"
    }
   ],
   "source": [
    "# Write your code here!\n",
    "klasses['is_deleted(bool)'] = klasses['is_deleted'].replace(0, False).replace(1, True)\n",
    "\n",
    "klasses[['is_deleted(bool)', 'is_deleted']]"
   ]
  },
  {
   "cell_type": "markdown",
   "metadata": {},
   "source": [
    "**3. 클래스 수강권(```klass_tickets```) 데이터의 ```is_paid``` 컬럼 값을 ```0```, ```1```에서 ```True```, ```False```로 바꿔주세요.**\n",
    "\n",
    "이번에는 위와 유사하게, 클래스 수강권(```klass_tickets```) 데이터의 ```is_paid``` 컬럼을 정리해보겠습니다. 이 컬럼은 해당 클래스 수강권(```klass_tickets```)이 실제 구매한 것인지 아닌지 여부를 나타내는 컬럼인데, 수강권을 구매했다면 ```1```이, 구매하지 않았으면 ```0```이라는 값을 기록합니다. 마찬가지로 직관적이고 가독성을 높이기 위해서, 값을 ```1```, ```0```이 아닌 ```True```, ```False```로 변경하고 싶습니다. 최종적으로 다음의 결과가 나와야 합니다."
   ]
  },
  {
   "cell_type": "markdown",
   "metadata": {},
   "source": [
    "<table border=\"1\" class=\"dataframe\" style=\"float: left;\">\n",
    "\t<thead>\n",
    "\t\t<tr style=\"text-align: right;\">\n",
    "\t\t\t<th></th>\n",
    "\t\t\t<th>is_paid</th>\n",
    "\t\t\t<th>is_paid(bool)</th>\n",
    "\t\t</tr>\n",
    "\t\t<tr>\n",
    "\t\t\t<th>id</th>\n",
    "\t\t\t<th></th>\n",
    "\t\t\t<th></th>\n",
    "\t\t</tr>\n",
    "\t</thead>\n",
    "\t<tbody>\n",
    "\t\t<tr>\n",
    "\t\t\t<th>8u4iqyurthy66f1lxzvg2mmo</th>\n",
    "\t\t\t<td>0</td>\n",
    "\t\t\t<td>False</td>\n",
    "\t\t</tr>\n",
    "\t\t<tr>\n",
    "\t\t\t<th>hywaasrsu2uipjh7hox8btzk</th>\n",
    "\t\t\t<td>0</td>\n",
    "\t\t\t<td>False</td>\n",
    "\t\t</tr>\n",
    "\t\t<tr>\n",
    "\t\t\t<th>a7a0kmzuiu8lncc5xcdomkd2</th>\n",
    "\t\t\t<td>0</td>\n",
    "\t\t\t<td>False</td>\n",
    "\t\t</tr>\n",
    "\t\t<tr>\n",
    "\t\t\t<th>5ddaf8rkhfff4910pwk56vcn</th>\n",
    "\t\t\t<td>0</td>\n",
    "\t\t\t<td>False</td>\n",
    "\t\t</tr>\n",
    "\t\t<tr>\n",
    "\t\t\t<th>kri4yddw8xweaqy1ka9ul7uk</th>\n",
    "\t\t\t<td>0</td>\n",
    "\t\t\t<td>False</td>\n",
    "\t\t</tr>\n",
    "\t</tbody>\n",
    "</table>"
   ]
  },
  {
   "cell_type": "code",
   "execution_count": null,
   "metadata": {},
   "outputs": [],
   "source": [
    "# Write your code here!"
   ]
  },
  {
   "cell_type": "markdown",
   "metadata": {},
   "source": [
    "**4. 클래스(```klasses```) 데이터와 클래스 수강권(```klasses_tickets```) 데이터의 날짜 정보를 datetime 형태로 변환해주세요.**\n",
    "\n",
    "사용자(```users```) 데이터와 유사하게, 클래스(```klasses```) 데이터와 클래스 수강권(```klasses_tickets```) 데이터에도 날짜와 시간(```datetime```) 정보를 저장한 컬럼들이 있습니다.\n",
    "\n",
    "**클래스(```klasses```) 데이터**\n",
    "  * ```created_at``` - 클래스(```klasses```) 데이터를 생성(create)한 날짜입니다.\n",
    "  * ```updated_at``` - 클래스(```klasses```) 데이터를 수정(update)한 날짜입니다.\n",
    "  * ```deleted_at``` - 클래스(```klasses```) 데이터를 삭제(delete)한 날짜입니다.\n",
    "  \n",
    "**클래스 수강권(```klasses_tickets```) 데이터**\n",
    "  * ```created_at``` - 수강권(```klass_ticketes```) 데이터를 생성(create)한 날짜입니다.\n",
    "  * ```updated_at``` - 수강권(```klass_ticketes```) 데이터를 수정(update)한 날짜입니다.\n",
    "  * ```finished``` - 수강권(```klass_ticketes```)이 만료되는 날짜입니다.\n",
    "  * ```deleted_at``` - 수강권(```klass_ticketes```) 데이터를 삭제(delete)한 날짜입니다.\n",
    "  \n",
    "1번 문제와 유사하게, 이 컬럼들의 형태를 ```datetime```으로 변경해주세요. 변경 후 판다스(Pandas)의 [dtypes](https://pandas.pydata.org/pandas-docs/stable/reference/api/pandas.DataFrame.dtypes.html) 기능을 실행하면 다음과 같은 결과가 나와야 합니다."
   ]
  },
  {
   "cell_type": "markdown",
   "metadata": {},
   "source": [
    "**클래스(```klasses```) 데이터의 데이터 타입(```dtypes```)**\n",
    "<pre>\n",
    "category_id                 object\n",
    "is_deleted                   int64\n",
    "created_at          datetime64[ns]\n",
    "updated_at          datetime64[ns]\n",
    "deleted_at          datetime64[ns]\n",
    "is_deleted(bool)              bool\n",
    "dtype: object\n",
    "</pre>"
   ]
  },
  {
   "cell_type": "markdown",
   "metadata": {},
   "source": [
    "**클래스 수강권(```klasses_tickets```) 데이터의 데이터 타입(```dtypes```)**\n",
    "<pre>\n",
    "user_id                   object\n",
    "klass_id                  object\n",
    "available_days           float64\n",
    "is_paid                    int64\n",
    "created_at        datetime64[ns]\n",
    "updated_at        datetime64[ns]\n",
    "finished_at       datetime64[ns]\n",
    "deleted_at        datetime64[ns]\n",
    "dtype: object\n",
    "</pre>"
   ]
  },
  {
   "cell_type": "code",
   "execution_count": null,
   "metadata": {},
   "outputs": [],
   "source": [
    "# Write your code here!"
   ]
  },
  {
   "cell_type": "markdown",
   "metadata": {},
   "source": [
    "**5. 수강권(```klass_tickets```) 데이터의 유효기간(```available_days```) 컬럼 값을 정수형(```int```)로 변경해주세요.**\n",
    "\n",
    "이번에는 수강권(```klass_tickets```) 데이터의 유효기간(```available_days```) 컬럼을 정리해보겠습니다. 유효기간(```available_days```)은 수강신청 후 해당 수업(클래스)를 들을 수 있는 기간을 숫자로 나타낸 컬럼입니다. 가령 10이라는 값이 들어가 있다면 수강 신청 후 최대 열흘까지 수업을 들을 수 있다는 의미이며, 100이라는 값이 들어가 있다면 수강 신청 후 최대 100일까지 수업을 들을 수 있다는 의미입니다.\n",
    "\n",
    "현재 이 컬럼은 소수점을 포함할 수 있는 실수형(```float```)으로 되어있지만, 날짜에는 소수점이 들어가지 않기 때문에 소수점을 포함하지 않는 정수형(```int```)으로 변환해주면 차후 이 컬럼을 다루는데 더 용이할 것 같습니다. 그러므로 유효기간(```available_days```) 컬럼의 데이터 형태(Data Type)을 정수형(```int```)으로 바꿔주세요. 최종적으로 다음의 결과가 나와야 합니다."
   ]
  },
  {
   "cell_type": "markdown",
   "metadata": {},
   "source": [
    "<table border=\"1\" class=\"dataframe\" style=\"float: left;\">\n",
    "\t<thead>\n",
    "\t\t<tr style=\"text-align: right;\">\n",
    "\t\t\t<th></th>\n",
    "\t\t\t<th>available_days</th>\n",
    "\t\t\t<th>available_days(int)</th>\n",
    "\t\t</tr>\n",
    "\t\t<tr>\n",
    "\t\t\t<th>id</th>\n",
    "\t\t\t<th></th>\n",
    "\t\t\t<th></th>\n",
    "\t\t</tr>\n",
    "\t</thead>\n",
    "\t<tbody>\n",
    "\t\t<tr>\n",
    "\t\t\t<th>8u4iqyurthy66f1lxzvg2mmo</th>\n",
    "\t\t\t<td>393.0</td>\n",
    "\t\t\t<td>393</td>\n",
    "\t\t</tr>\n",
    "\t\t<tr>\n",
    "\t\t\t<th>hywaasrsu2uipjh7hox8btzk</th>\n",
    "\t\t\t<td>900.0</td>\n",
    "\t\t\t<td>900</td>\n",
    "\t\t</tr>\n",
    "\t\t<tr>\n",
    "\t\t\t<th>a7a0kmzuiu8lncc5xcdomkd2</th>\n",
    "\t\t\t<td>112.0</td>\n",
    "\t\t\t<td>112</td>\n",
    "\t\t</tr>\n",
    "\t\t<tr>\n",
    "\t\t\t<th>5ddaf8rkhfff4910pwk56vcn</th>\n",
    "\t\t\t<td>112.0</td>\n",
    "\t\t\t<td>112</td>\n",
    "\t\t</tr>\n",
    "\t\t<tr>\n",
    "\t\t\t<th>kri4yddw8xweaqy1ka9ul7uk</th>\n",
    "\t\t\t<td>112.0</td>\n",
    "\t\t\t<td>112</td>\n",
    "\t\t</tr>\n",
    "\t</tbody>\n",
    "</table>"
   ]
  },
  {
   "cell_type": "markdown",
   "metadata": {},
   "source": [
    "PS) 판다스(Pandas)의 [astype](https://pandas.pydata.org/pandas-docs/stable/reference/api/pandas.Series.astype.html) 기능을 사용하면 손쉽게 데이터의 형태(Data Type)을 변경할 수 있습니다."
   ]
  },
  {
   "cell_type": "code",
   "execution_count": null,
   "metadata": {},
   "outputs": [],
   "source": [
    "# Write your code here!"
   ]
  },
  {
   "cell_type": "markdown",
   "metadata": {},
   "source": [
    "### 분석 리포트 생성"
   ]
  },
  {
   "cell_type": "markdown",
   "metadata": {},
   "source": [
    "데이터를 다 정리했으면, 이제 본격적으로 데이터 분석(Data Analysis)을 해보겠습니다.\n",
    "\n",
    "이번 과제의 사실상의 메인 주제는 분석 리포트 생성입니다. 분석 리포트는 데이터 분석가가 하는 가장 일반적인 업무 중 하나인데, 회사의 데이터를 가져와 월별 주요 지표(매출, 신규 가입자 수, 특정 카테고리별 판매량 등)를 정리하는 업무라고 생각하시면 됩니다.\n",
    "\n",
    "만일 데이터 분석가가 분석 리포트를 정확하고 빠르게 만들어줄 수 있다면, 회사의 다른 이해관계자들이 데이터를 근거삼아 올바른 의사결정을 할 수 있을 것입니다. 반면 데이터 분석가가 분석 리포트를 만들 때 세부 지표를 잘못 계산해주거나, 분석 리포트를 만드는 시간이 오래 걸린다면 회사의 주요 이해관계자들이 근거 기반의 의사결정을 하는데 어려움을 겪을 것입니다.\n",
    "\n",
    "그런 의미에서, 이번에는 클래스101의 2020년 4월 기준 주요 지표를 추출해서 의사결정을 내려보겠습니다.\n"
   ]
  },
  {
   "cell_type": "markdown",
   "metadata": {},
   "source": [
    "**6. 2020년 4월 기준 전체 가입자와 신규 가입자를 구해주세요.**\n",
    "\n",
    "먼저 가장 기본적인 지표부터 살펴보겠습니다. 이번에 계산할 지표는 ```전체 가입자```와 ```신규 가입자```입니다. ```전체 가입자```와 ```신규 가입자```는 회사의 성장 여부를 확인할 수 있는 중요한 지표중에 하나입니다. 서비스에 ```전체 가입자```와 ```신규 가입자```가 늘어나면 늘어날수록 회사는 더 성장하고 있다고 판단할 수 있으며, 반면 서비스의 ```전체 가입자```와 ```신규 가입자```가 늘어나지 않는다면 서비스의 성장세가 주춤해졌다고 판단할 수 있습니다.\n",
    "\n",
    "그런 의미에서, 2020년 4월 기준 클래스101의 ```전체 가입자```와 ```신규 가입자```의 총 인원수를 구해주세요. ```전체 가입자```는 **484,747 명**, ```신규 가입자```는 **49,464 명**이 나왔다면 정상적으로 계산했다고 판단할 수 있습니다."
   ]
  },
  {
   "cell_type": "code",
   "execution_count": null,
   "metadata": {},
   "outputs": [],
   "source": [
    "# Write your code here!"
   ]
  },
  {
   "cell_type": "markdown",
   "metadata": {},
   "source": [
    "**7.2020년 4월 기준 ```전체 수강생```. 즉, 수강권을 구매한 구매자를 찾아주세요.**\n",
    "\n",
    "이번에는 비슷하지만 다른 지표를 계산하겠습니다. 바로 ```수강생```입니다.\n",
    "\n",
    "사용자가 서비스에 가입했다고 하더라도, 아직 수강 신청을 하지 않았다면 회사의 매출에 기여하지 않았다고도 판단할 수 있습니다. 그런 의미에서, 사용자보다는 ```수강생```(=수강 신청을 한 사람, 내지는 상품을 구매한 사람)을 계산하는 것이 더 정확할 수 있습니다.\n",
    "\n",
    "그런 의미에서, 2020년 4월 1일부터 2020년 4월 30일 사이에 클래스101의 수업을 구매한 ```전체 수강생```의 인원 수를 구해주세요. 계산 결과 총 **16,414 명**이 나왔다면 성공적으로 ```전체 수강생```을 구한 것입니다.\n",
    "\n",
    "PS) 한 명의 수강생이 여러 개의 수업을 수강 신청했다고 하더라도, 실제 수강 신청한 수강생은 1명이라는 것에 주의해주세요."
   ]
  },
  {
   "cell_type": "code",
   "execution_count": null,
   "metadata": {},
   "outputs": [],
   "source": [
    "# Write your code here!"
   ]
  },
  {
   "cell_type": "markdown",
   "metadata": {},
   "source": [
    "**8. 2020년 4월 30일 기준 유효 수강생. 즉 이미 수업을 듣고 있는 수강생을 구해주세요.**"
   ]
  },
  {
   "cell_type": "markdown",
   "metadata": {},
   "source": [
    "이번에는 보다 더 자세한 지표를 계산해보겠습니다. 바로 ```유효 수강생```입니다.\n",
    "\n",
    "```전체 수강생```과 ```유효 수강생```의 가장 큰 차이점은, \"실제 이 서비스(클래스101)을 이용하는 것을 고려하고 있는가?\"의 여부입니다. ```전체 수강생```은 수강 신청일(수업을 신청한 날짜)를 기준으로 계산하기 때문에 실제 수업을 듣고 있는 사용자는 반영되지 않을 가능성이 높습니다. 하지만 ```유효 수강생```은 실제 이 서비스를 이용하고 있는 수강생이 몇 명인지를 계산하기 때문에, 서비스의 실사용자가 몇 명인지를 파악할 수 있습니다.\n",
    "\n",
    "(참고로 교육업이 아닌 다른 서비스에서는, 이와 유사한 지표로 ```DAU(Daily Active Users)``` 또는 ```MAU(Maily Active Users)```를 계산하고 있습니다. ```유효 수강생```은 이와 유사한 개념이라고 보시면 됩니다)\n",
    "\n",
    "그런 의미에서, 2020년 4월 30일 기준 ```유효 수강생```의 총 인원을 계산해주세요. 계산 결과 총 **71,996 명**이 나왔다면 성공적으로 ```유효 수강생```을 구한 것입니다.\n",
    "\n",
    "PS) 마찬가지로 한 명의 수강생이 여러 개의 수업을 수강 신청했다고 하더라도, 실제 수강 신청한 수강생은 1명이라는 것에 주의해주세요."
   ]
  },
  {
   "cell_type": "code",
   "execution_count": null,
   "metadata": {},
   "outputs": [],
   "source": [
    "# Write your code here!"
   ]
  },
  {
   "cell_type": "markdown",
   "metadata": {},
   "source": [
    "**9. 2020년 4월 이후에 생긴 신규 클래스를 찾고, 이 신규 클래스를 수강 신청한 사용자의 총 인원수를 구해주세요.**"
   ]
  },
  {
   "cell_type": "markdown",
   "metadata": {},
   "source": [
    "이번에는 수강생(```users```)가 아닌 클래스(```klasses```)에 관련된 지표를 계산해보겠습니다. 클래스101과 같은 교육업에서는 신규 컨텐츠(=클래스)를 지속적으로 생산해내는 것이 중요합니다. 그런 의미에서 2020년 4월 1일 이후 새롭게 런칭한 클래스(```klasses```)의 성과를 확인해보고 싶습니다.\n",
    "\n",
    "2020년 4월 1일 이후에 런칭한 신규 클래스(```klasses```)의 총 수강생(```users```)을 구해주세요. 최종적으로 총 **244 명**이 나왔다면 성공적으로 지표를 구한 것입니다."
   ]
  },
  {
   "cell_type": "code",
   "execution_count": null,
   "metadata": {},
   "outputs": [],
   "source": [
    "# Write your code here!"
   ]
  },
  {
   "cell_type": "markdown",
   "metadata": {},
   "source": [
    "**10. 2020년 4월 이후에 생긴 신규 클래스 중, ```직무``` 카테고리 클래스를 수강 신청한 사용자의 총 인원수를 구해주세요.**"
   ]
  },
  {
   "cell_type": "markdown",
   "metadata": {},
   "source": [
    "이번에는 위 문제를 응용해보겠습니다. 클래스101에는 ```커리어```, ```직무```, ```드로잉```, ```공예```, ```디자인``` 등등 다양한 카테고리의 수업이 있습니다. 이 수업 중 2020년 4월 기준 클래스101이 가장 집중하고 있는 카테고리는 바로 ```직무``` 카테고리입니다.\n",
    "\n",
    "그런 의미에서, 2020년 4월 이후에 생긴 신규 클래스 중, ```직무``` 카테고리 클래스를 수강 신청한 사용자의 총 인원을 구해주세요. 계산 결과 총 **163 명**이 나왔다면 성공적으로 지표를 구한 것입니다."
   ]
  },
  {
   "cell_type": "code",
   "execution_count": null,
   "metadata": {},
   "outputs": [],
   "source": [
    "# Write your code here!"
   ]
  },
  {
   "cell_type": "markdown",
   "metadata": {},
   "source": [
    "### 심화 분석\n",
    "\n",
    "위의 분석 리포트는 2020년 4월을 기준으로 생성하는 것입니다. 하지만 데이터 분석가가 실제 현업에서 데이터를 분석하게 되면, 단순히 특정 연월을 기준으로 분석하는 것이 아닌, 전체 연월 또는 전체 카테고리 등 훨씬 더 포괄적인 분야에 대한 분석을 해야합니다. 그런 의미에서, 이번에는 앞서 진행한 분석 리포트 생성보다 더 디테일한 분석을 진행해보도록 하겠습니다."
   ]
  },
  {
   "cell_type": "markdown",
   "metadata": {},
   "source": [
    "**11. 월별 신규 가입 사용자(```users```) 수를 구해주세요.**\n",
    "\n",
    "앞서 분석 리포트를 생성할 때는 2020년 4월만을 기준으로 신규 가입 사용자를 구했습니다. 하지만 실제 데이터를 분석할 때는 특정 연월 뿐만 아니라 전체 연월을 계산하여, 이를 통해 신규 가입 사용자가 늘어나고 있는지(=회사가 성장하고 있는지), 내지는 신규 가입 사용자가 늘어나지 않는지(=회사가 정체되어 있는지) 확인합니다. 그런 의미에서 2019년 1월부터 2020년 5월까지의 신규 사용자의 증가 추세를 계산해주세요. 최종적으로 다음의 결과가 나와야 합니다."
   ]
  },
  {
   "cell_type": "markdown",
   "metadata": {},
   "source": [
    "<table border=\"1\" class=\"dataframe\" style=\"float: left;\">\n",
    "\t<thead>\n",
    "\t\t<tr style=\"text-align: right;\">\n",
    "\t\t\t<th></th>\n",
    "\t\t\t<th>name</th>\n",
    "\t\t</tr>\n",
    "\t\t<tr>\n",
    "\t\t\t<th>registration_date(ym)</th>\n",
    "\t\t\t<th></th>\n",
    "\t\t</tr>\n",
    "\t</thead>\n",
    "\t<tbody>\n",
    "\t\t<tr>\n",
    "\t\t\t<th>2019-01</th>\n",
    "\t\t\t<td>13934</td>\n",
    "\t\t</tr>\n",
    "\t\t<tr>\n",
    "\t\t\t<th>2019-02</th>\n",
    "\t\t\t<td>18494</td>\n",
    "\t\t</tr>\n",
    "\t\t<tr>\n",
    "\t\t\t<th>2019-03</th>\n",
    "\t\t\t<td>16096</td>\n",
    "\t\t</tr>\n",
    "\t\t<tr>\n",
    "\t\t\t<th>2019-04</th>\n",
    "\t\t\t<td>21147</td>\n",
    "\t\t</tr>\n",
    "\t\t<tr>\n",
    "\t\t\t<th>2019-05</th>\n",
    "\t\t\t<td>25510</td>\n",
    "\t\t</tr>\n",
    "\t\t<tr>\n",
    "\t\t\t<th>2019-06</th>\n",
    "\t\t\t<td>39519</td>\n",
    "\t\t</tr>\n",
    "\t\t<tr>\n",
    "\t\t\t<th>2019-07</th>\n",
    "\t\t\t<td>30389</td>\n",
    "\t\t</tr>\n",
    "\t\t<tr>\n",
    "\t\t\t<th>2019-08</th>\n",
    "\t\t\t<td>21647</td>\n",
    "\t\t</tr>\n",
    "\t\t<tr>\n",
    "\t\t\t<th>2019-09</th>\n",
    "\t\t\t<td>22143</td>\n",
    "\t\t</tr>\n",
    "\t\t<tr>\n",
    "\t\t\t<th>2019-10</th>\n",
    "\t\t\t<td>21041</td>\n",
    "\t\t</tr>\n",
    "\t\t<tr>\n",
    "\t\t\t<th>2019-11</th>\n",
    "\t\t\t<td>16217</td>\n",
    "\t\t</tr>\n",
    "\t\t<tr>\n",
    "\t\t\t<th>2019-12</th>\n",
    "\t\t\t<td>25367</td>\n",
    "\t\t</tr>\n",
    "\t\t<tr>\n",
    "\t\t\t<th>2020-01</th>\n",
    "\t\t\t<td>34225</td>\n",
    "\t\t</tr>\n",
    "\t\t<tr>\n",
    "\t\t\t<th>2020-02</th>\n",
    "\t\t\t<td>45120</td>\n",
    "\t\t</tr>\n",
    "\t\t<tr>\n",
    "\t\t\t<th>2020-03</th>\n",
    "\t\t\t<td>84434</td>\n",
    "\t\t</tr>\n",
    "\t\t<tr>\n",
    "\t\t\t<th>2020-04</th>\n",
    "\t\t\t<td>49464</td>\n",
    "\t\t</tr>\n",
    "\t\t<tr>\n",
    "\t\t\t<th>2020-05</th>\n",
    "\t\t\t<td>15253</td>\n",
    "\t\t</tr>\n",
    "\t</tbody>\n",
    "</table>"
   ]
  },
  {
   "cell_type": "markdown",
   "metadata": {},
   "source": [
    "PS) 판다스(Pandas)의 [pivot_table](https://pandas.pydata.org/pandas-docs/stable/reference/api/pandas.pivot_table.html)을 사용하면 어렵지 않게 위 문제를 풀 수 있습니다."
   ]
  },
  {
   "cell_type": "code",
   "execution_count": null,
   "metadata": {},
   "outputs": [],
   "source": [
    "# Write your code here!"
   ]
  },
  {
   "cell_type": "markdown",
   "metadata": {},
   "source": [
    "**12. 월별 수강권(```klass_tickets```)을 구매한 사용자 수를 구해주세요.**\n",
    "\n",
    "이번에는 비슷한 방식으로, 신규 가입 사용자(```users```)가 아닌 실제 구매한 수강권(```klass_tickets```)을 구매한 사용자를 계산해보겠습니다. 마찬가지로 특정 연월(ex: 2020년 4월)이 아닌 전체 연월을 기준으로 계산해야 회사의 실질적인 성장세를 파악할 수 있습니다. 최종적으로 다음의 결과가 나와야 합니다.\n"
   ]
  },
  {
   "cell_type": "markdown",
   "metadata": {},
   "source": [
    "<table border=\"1\" class=\"dataframe\" style=\"float: left;\">\n",
    "\t<thead>\n",
    "\t\t<tr style=\"text-align: right;\">\n",
    "\t\t\t<th></th>\n",
    "\t\t\t<th>user_id</th>\n",
    "\t\t</tr>\n",
    "\t\t<tr>\n",
    "\t\t\t<th>created_at(ym)</th>\n",
    "\t\t\t<th></th>\n",
    "\t\t</tr>\n",
    "\t</thead>\n",
    "\t<tbody>\n",
    "\t\t<tr>\n",
    "\t\t\t<th>2019-04</th>\n",
    "\t\t\t<td>161</td>\n",
    "\t\t</tr>\n",
    "\t\t<tr>\n",
    "\t\t\t<th>2019-05</th>\n",
    "\t\t\t<td>328</td>\n",
    "\t\t</tr>\n",
    "\t\t<tr>\n",
    "\t\t\t<th>2019-06</th>\n",
    "\t\t\t<td>3003</td>\n",
    "\t\t</tr>\n",
    "\t\t<tr>\n",
    "\t\t\t<th>2019-07</th>\n",
    "\t\t\t<td>4382</td>\n",
    "\t\t</tr>\n",
    "\t\t<tr>\n",
    "\t\t\t<th>2019-08</th>\n",
    "\t\t\t<td>4072</td>\n",
    "\t\t</tr>\n",
    "\t\t<tr>\n",
    "\t\t\t<th>2019-09</th>\n",
    "\t\t\t<td>5978</td>\n",
    "\t\t</tr>\n",
    "\t\t<tr>\n",
    "\t\t\t<th>2019-10</th>\n",
    "\t\t\t<td>9019</td>\n",
    "\t\t</tr>\n",
    "\t\t<tr>\n",
    "\t\t\t<th>2019-11</th>\n",
    "\t\t\t<td>7501</td>\n",
    "\t\t</tr>\n",
    "\t\t<tr>\n",
    "\t\t\t<th>2019-12</th>\n",
    "\t\t\t<td>8849</td>\n",
    "\t\t</tr>\n",
    "\t\t<tr>\n",
    "\t\t\t<th>2020-01</th>\n",
    "\t\t\t<td>13623</td>\n",
    "\t\t</tr>\n",
    "\t\t<tr>\n",
    "\t\t\t<th>2020-02</th>\n",
    "\t\t\t<td>11587</td>\n",
    "\t\t</tr>\n",
    "\t\t<tr>\n",
    "\t\t\t<th>2020-03</th>\n",
    "\t\t\t<td>21483</td>\n",
    "\t\t</tr>\n",
    "\t\t<tr>\n",
    "\t\t\t<th>2020-04</th>\n",
    "\t\t\t<td>15284</td>\n",
    "\t\t</tr>\n",
    "\t\t<tr>\n",
    "\t\t\t<th>2020-05</th>\n",
    "\t\t\t<td>8870</td>\n",
    "\t\t</tr>\n",
    "\t</tbody>\n",
    "</table>"
   ]
  },
  {
   "cell_type": "markdown",
   "metadata": {},
   "source": [
    "PS) pivot_table을 사용할 때, 집계 방식(```aggfunc```)을 [pd.Series.nunique](https://stackoverflow.com/a/51367441)로 설정하면 전체 데이터의 개수가 아닌, 고유한 데이터(```unique```)의 개수를 계산할 수 있습니다."
   ]
  },
  {
   "cell_type": "code",
   "execution_count": null,
   "metadata": {},
   "outputs": [],
   "source": [
    "# Write your code here!"
   ]
  },
  {
   "cell_type": "markdown",
   "metadata": {},
   "source": [
    "**13. 카테고리(```categories```)별 운영 중인 클래스(```klasses```) 수를 구해 주세요.**"
   ]
  },
  {
   "cell_type": "markdown",
   "metadata": {},
   "source": [
    "이번에는 수업 카테고리(```categories```)별 운영중인 클래스(```klasses```)의 개수를 구해보겠습니다. 카테고리별 클래스의 개수를 구할 수 있으면 현재 크리에이터들이 가장 활발하게 수업이 올리는 클래스가 어떤 것인지를 확인할 수 있습니다. (여기에 연월별 클래스 생성 현황까지 포함하면, 카테고리의 트렌드를 확인할 수 있는 좋은 분석 자료가 됩니다) 최종적으로 다음의 결과가 나와야 합니다."
   ]
  },
  {
   "cell_type": "markdown",
   "metadata": {},
   "source": [
    "<table border=\"1\" class=\"dataframe\" style=\"float: left;\">\n",
    "\t<thead>\n",
    "\t\t<tr style=\"text-align: right;\">\n",
    "\t\t\t<th></th>\n",
    "\t\t\t<th>id</th>\n",
    "\t\t</tr>\n",
    "\t\t<tr>\n",
    "\t\t\t<th>title</th>\n",
    "\t\t\t<th></th>\n",
    "\t\t</tr>\n",
    "\t</thead>\n",
    "\t<tbody>\n",
    "\t\t<tr>\n",
    "\t\t\t<th>미술</th>\n",
    "\t\t\t<td>2143</td>\n",
    "\t\t</tr>\n",
    "\t\t<tr>\n",
    "\t\t\t<th>공예</th>\n",
    "\t\t\t<td>2035</td>\n",
    "\t\t</tr>\n",
    "\t\t<tr>\n",
    "\t\t\t<th>디지털 드로잉</th>\n",
    "\t\t\t<td>1122</td>\n",
    "\t\t</tr>\n",
    "\t\t<tr>\n",
    "\t\t\t<th>라이프 스타일</th>\n",
    "\t\t\t<td>1081</td>\n",
    "\t\t</tr>\n",
    "\t\t<tr>\n",
    "\t\t\t<th>요리/음료</th>\n",
    "\t\t\t<td>865</td>\n",
    "\t\t</tr>\n",
    "\t\t<tr>\n",
    "\t\t\t<th>디자인/개발</th>\n",
    "\t\t\t<td>583</td>\n",
    "\t\t</tr>\n",
    "\t\t<tr>\n",
    "\t\t\t<th>사진/영상</th>\n",
    "\t\t\t<td>500</td>\n",
    "\t\t</tr>\n",
    "\t\t<tr>\n",
    "\t\t\t<th>부업/창업/재테크</th>\n",
    "\t\t\t<td>410</td>\n",
    "\t\t</tr>\n",
    "\t\t<tr>\n",
    "\t\t\t<th>음악</th>\n",
    "\t\t\t<td>383</td>\n",
    "\t\t</tr>\n",
    "\t\t<tr>\n",
    "\t\t\t<th>직무</th>\n",
    "\t\t\t<td>268</td>\n",
    "\t\t</tr>\n",
    "\t\t<tr>\n",
    "\t\t\t<th>시그니처</th>\n",
    "\t\t\t<td>215</td>\n",
    "\t\t</tr>\n",
    "\t\t<tr>\n",
    "\t\t\t<th>디자인</th>\n",
    "\t\t\t<td>92</td>\n",
    "\t\t</tr>\n",
    "\t\t<tr>\n",
    "\t\t\t<th>개발</th>\n",
    "\t\t\t<td>77</td>\n",
    "\t\t</tr>\n",
    "\t\t<tr>\n",
    "\t\t\t<th>DIY</th>\n",
    "\t\t\t<td>76</td>\n",
    "\t\t</tr>\n",
    "\t\t<tr>\n",
    "\t\t\t<th>자기계발</th>\n",
    "\t\t\t<td>45</td>\n",
    "\t\t</tr>\n",
    "\t\t<tr>\n",
    "\t\t\t<th>커리어</th>\n",
    "\t\t\t<td>30</td>\n",
    "\t\t</tr>\n",
    "\t\t<tr>\n",
    "\t\t\t<th>댄스</th>\n",
    "\t\t\t<td>26</td>\n",
    "\t\t</tr>\n",
    "\t\t<tr>\n",
    "\t\t\t<th>영화</th>\n",
    "\t\t\t<td>20</td>\n",
    "\t\t</tr>\n",
    "\t\t<tr>\n",
    "\t\t\t<th>홈/인테리어</th>\n",
    "\t\t\t<td>13</td>\n",
    "\t\t</tr>\n",
    "\t\t<tr>\n",
    "\t\t\t<th>악기/음악</th>\n",
    "\t\t\t<td>8</td>\n",
    "\t\t</tr>\n",
    "\t\t<tr>\n",
    "\t\t\t<th>스포츠</th>\n",
    "\t\t\t<td>8</td>\n",
    "\t\t</tr>\n",
    "\t</tbody>\n",
    "</table>"
   ]
  },
  {
   "cell_type": "code",
   "execution_count": null,
   "metadata": {},
   "outputs": [],
   "source": [
    "# Write your code here!"
   ]
  },
  {
   "cell_type": "markdown",
   "metadata": {},
   "source": [
    "**14. 누적 수강생 수(```klass_tickets```)가 가장 많은 Top 10 클래스의 ID와 그 수강생 수를 구해 주세요.**"
   ]
  },
  {
   "cell_type": "markdown",
   "metadata": {},
   "source": [
    "이번에는 클래스101에서 가장 판매량이 높은 클래스(```klasses```)를 찾아보겠습니다. 전체 클래스에서, 누적 수강생 수(```klass_tickets```)가 가장 많은 상위 10개의 클래스를 찾아주세요. 이 클래스가 클래스101 매출의 핵심이라고 볼 수 있습니다. 최종적으로 다음의 결과가 나와야 합니다."
   ]
  },
  {
   "cell_type": "markdown",
   "metadata": {},
   "source": [
    "<table border=\"1\" class=\"dataframe\" style=\"float: left;\">\n",
    "\t<thead>\n",
    "\t\t<tr style=\"text-align: right;\">\n",
    "\t\t\t<th></th>\n",
    "\t\t\t<th>user_id</th>\n",
    "\t\t</tr>\n",
    "\t</thead>\n",
    "\t<tbody>\n",
    "\t\t<tr>\n",
    "\t\t\t<th>lmcl8av2otsu7ewe5z46hmkf</th>\n",
    "\t\t\t<td>17022</td>\n",
    "\t\t</tr>\n",
    "\t\t<tr>\n",
    "\t\t\t<th>sz0hxjm1lp6gr15b8aum5lud</th>\n",
    "\t\t\t<td>15708</td>\n",
    "\t\t</tr>\n",
    "\t\t<tr>\n",
    "\t\t\t<th>svo3axw7j71qng7lb38y4hvp</th>\n",
    "\t\t\t<td>7062</td>\n",
    "\t\t</tr>\n",
    "\t\t<tr>\n",
    "\t\t\t<th>z3q0rfq9dclclzuxcwxbms73</th>\n",
    "\t\t\t<td>6762</td>\n",
    "\t\t</tr>\n",
    "\t\t<tr>\n",
    "\t\t\t<th>u85yqtgerauwfvpj9pz6j0bx</th>\n",
    "\t\t\t<td>6347</td>\n",
    "\t\t</tr>\n",
    "\t\t<tr>\n",
    "\t\t\t<th>zkoj2ivzj7uslzruxdnxp29c</th>\n",
    "\t\t\t<td>5851</td>\n",
    "\t\t</tr>\n",
    "\t\t<tr>\n",
    "\t\t\t<th>7ez0fe3y40h37ciew2dc8tww</th>\n",
    "\t\t\t<td>5104</td>\n",
    "\t\t</tr>\n",
    "\t\t<tr>\n",
    "\t\t\t<th>z25usytcgptslj82zop7g4ad</th>\n",
    "\t\t\t<td>4482</td>\n",
    "\t\t</tr>\n",
    "\t\t<tr>\n",
    "\t\t\t<th>wtdzp6q2tbs2aqauq28amagm</th>\n",
    "\t\t\t<td>2848</td>\n",
    "\t\t</tr>\n",
    "\t\t<tr>\n",
    "\t\t\t<th>gpa4lutkt2t2ig1k9y2bq948</th>\n",
    "\t\t\t<td>2630</td>\n",
    "\t\t</tr>\n",
    "\t</tbody>\n",
    "</table>"
   ]
  },
  {
   "cell_type": "code",
   "execution_count": null,
   "metadata": {},
   "outputs": [],
   "source": [
    "# Write your code here!"
   ]
  },
  {
   "cell_type": "markdown",
   "metadata": {},
   "source": [
    "**15. 월별, 그리고 클래스 카테고리별 신규 구매자 수를 구해 주세요.**\n",
    "\n",
    "마지막으로, 클래스101의 전체 판매 현황을 자세하게 확인할 수 있는 단 하나의 분석 테이블을 계산해보겠습니다. 바로 1) 월별, 2) 카테고리별, 3) 클래스의 신규 구매자 수입니다. 이 지표를 계산할 수 있다면 카테고리별로 클래스 수강생이 늘어나고 있는지(=해당 카테고리가 성장하고 있는지), 정 반대로 클래스 수강생이 늘어나지 않고 정체되고 있는지를 파악할 수 있기 때문에, 회사의 현황을 파악하기에 매우 용이합니다. 최종적으로 다음의 결과가 나와야 합니다."
   ]
  },
  {
   "cell_type": "markdown",
   "metadata": {},
   "source": [
    "<table border=\"1\" class=\"dataframe\" style=\"float: left;\">\n",
    "\t<thead>\n",
    "\t\t<tr style=\"text-align: right;\">\n",
    "\t\t\t<th>title</th>\n",
    "\t\t\t<th>DIY</th>\n",
    "\t\t\t<th>개발</th>\n",
    "\t\t\t<th>공예</th>\n",
    "\t\t\t<th>디자인</th>\n",
    "\t\t\t<th>디자인/개발</th>\n",
    "\t\t\t<th>디지털 드로잉</th>\n",
    "\t\t\t<th>라이프 스타일</th>\n",
    "\t\t\t<th>미술</th>\n",
    "\t\t\t<th>부업/창업/재테크</th>\n",
    "\t\t\t<th>사진/영상</th>\n",
    "\t\t\t<th>시그니처</th>\n",
    "\t\t\t<th>악기/음악</th>\n",
    "\t\t\t<th>요리/음료</th>\n",
    "\t\t\t<th>음악</th>\n",
    "\t\t\t<th>자기계발</th>\n",
    "\t\t\t<th>직무</th>\n",
    "\t\t\t<th>커리어</th>\n",
    "\t\t</tr>\n",
    "\t\t<tr>\n",
    "\t\t\t<th>created_at(ym)</th>\n",
    "\t\t\t<th></th>\n",
    "\t\t\t<th></th>\n",
    "\t\t\t<th></th>\n",
    "\t\t\t<th></th>\n",
    "\t\t\t<th></th>\n",
    "\t\t\t<th></th>\n",
    "\t\t\t<th></th>\n",
    "\t\t\t<th></th>\n",
    "\t\t\t<th></th>\n",
    "\t\t\t<th></th>\n",
    "\t\t\t<th></th>\n",
    "\t\t\t<th></th>\n",
    "\t\t\t<th></th>\n",
    "\t\t\t<th></th>\n",
    "\t\t\t<th></th>\n",
    "\t\t\t<th></th>\n",
    "\t\t\t<th></th>\n",
    "\t\t</tr>\n",
    "\t</thead>\n",
    "\t<tbody>\n",
    "\t\t<tr>\n",
    "\t\t\t<th>2019-04</th>\n",
    "\t\t\t<td>0</td>\n",
    "\t\t\t<td>0</td>\n",
    "\t\t\t<td>0</td>\n",
    "\t\t\t<td>0</td>\n",
    "\t\t\t<td>0</td>\n",
    "\t\t\t<td>161</td>\n",
    "\t\t\t<td>0</td>\n",
    "\t\t\t<td>0</td>\n",
    "\t\t\t<td>0</td>\n",
    "\t\t\t<td>0</td>\n",
    "\t\t\t<td>0</td>\n",
    "\t\t\t<td>0</td>\n",
    "\t\t\t<td>0</td>\n",
    "\t\t\t<td>0</td>\n",
    "\t\t\t<td>0</td>\n",
    "\t\t\t<td>0</td>\n",
    "\t\t\t<td>0</td>\n",
    "\t\t</tr>\n",
    "\t\t<tr>\n",
    "\t\t\t<th>2019-05</th>\n",
    "\t\t\t<td>0</td>\n",
    "\t\t\t<td>0</td>\n",
    "\t\t\t<td>12</td>\n",
    "\t\t\t<td>0</td>\n",
    "\t\t\t<td>0</td>\n",
    "\t\t\t<td>174</td>\n",
    "\t\t\t<td>0</td>\n",
    "\t\t\t<td>48</td>\n",
    "\t\t\t<td>0</td>\n",
    "\t\t\t<td>0</td>\n",
    "\t\t\t<td>52</td>\n",
    "\t\t\t<td>0</td>\n",
    "\t\t\t<td>46</td>\n",
    "\t\t\t<td>0</td>\n",
    "\t\t\t<td>0</td>\n",
    "\t\t\t<td>0</td>\n",
    "\t\t\t<td>0</td>\n",
    "\t\t</tr>\n",
    "\t\t<tr>\n",
    "\t\t\t<th>2019-06</th>\n",
    "\t\t\t<td>0</td>\n",
    "\t\t\t<td>0</td>\n",
    "\t\t\t<td>279</td>\n",
    "\t\t\t<td>13</td>\n",
    "\t\t\t<td>64</td>\n",
    "\t\t\t<td>705</td>\n",
    "\t\t\t<td>97</td>\n",
    "\t\t\t<td>340</td>\n",
    "\t\t\t<td>0</td>\n",
    "\t\t\t<td>575</td>\n",
    "\t\t\t<td>604</td>\n",
    "\t\t\t<td>0</td>\n",
    "\t\t\t<td>378</td>\n",
    "\t\t\t<td>30</td>\n",
    "\t\t\t<td>0</td>\n",
    "\t\t\t<td>0</td>\n",
    "\t\t\t<td>0</td>\n",
    "\t\t</tr>\n",
    "\t\t<tr>\n",
    "\t\t\t<th>2019-07</th>\n",
    "\t\t\t<td>0</td>\n",
    "\t\t\t<td>0</td>\n",
    "\t\t\t<td>561</td>\n",
    "\t\t\t<td>3</td>\n",
    "\t\t\t<td>313</td>\n",
    "\t\t\t<td>608</td>\n",
    "\t\t\t<td>139</td>\n",
    "\t\t\t<td>1081</td>\n",
    "\t\t\t<td>0</td>\n",
    "\t\t\t<td>403</td>\n",
    "\t\t\t<td>1123</td>\n",
    "\t\t\t<td>0</td>\n",
    "\t\t\t<td>163</td>\n",
    "\t\t\t<td>68</td>\n",
    "\t\t\t<td>0</td>\n",
    "\t\t\t<td>0</td>\n",
    "\t\t\t<td>0</td>\n",
    "\t\t</tr>\n",
    "\t\t<tr>\n",
    "\t\t\t<th>2019-08</th>\n",
    "\t\t\t<td>0</td>\n",
    "\t\t\t<td>0</td>\n",
    "\t\t\t<td>674</td>\n",
    "\t\t\t<td>0</td>\n",
    "\t\t\t<td>186</td>\n",
    "\t\t\t<td>596</td>\n",
    "\t\t\t<td>702</td>\n",
    "\t\t\t<td>1119</td>\n",
    "\t\t\t<td>0</td>\n",
    "\t\t\t<td>339</td>\n",
    "\t\t\t<td>200</td>\n",
    "\t\t\t<td>0</td>\n",
    "\t\t\t<td>341</td>\n",
    "\t\t\t<td>61</td>\n",
    "\t\t\t<td>0</td>\n",
    "\t\t\t<td>36</td>\n",
    "\t\t\t<td>0</td>\n",
    "\t\t</tr>\n",
    "\t\t<tr>\n",
    "\t\t\t<th>2019-09</th>\n",
    "\t\t\t<td>0</td>\n",
    "\t\t\t<td>0</td>\n",
    "\t\t\t<td>828</td>\n",
    "\t\t\t<td>0</td>\n",
    "\t\t\t<td>319</td>\n",
    "\t\t\t<td>887</td>\n",
    "\t\t\t<td>1821</td>\n",
    "\t\t\t<td>1430</td>\n",
    "\t\t\t<td>9</td>\n",
    "\t\t\t<td>391</td>\n",
    "\t\t\t<td>142</td>\n",
    "\t\t\t<td>0</td>\n",
    "\t\t\t<td>241</td>\n",
    "\t\t\t<td>75</td>\n",
    "\t\t\t<td>0</td>\n",
    "\t\t\t<td>138</td>\n",
    "\t\t\t<td>0</td>\n",
    "\t\t</tr>\n",
    "\t\t<tr>\n",
    "\t\t\t<th>2019-10</th>\n",
    "\t\t\t<td>0</td>\n",
    "\t\t\t<td>0</td>\n",
    "\t\t\t<td>921</td>\n",
    "\t\t\t<td>0</td>\n",
    "\t\t\t<td>299</td>\n",
    "\t\t\t<td>1125</td>\n",
    "\t\t\t<td>759</td>\n",
    "\t\t\t<td>1435</td>\n",
    "\t\t\t<td>3723</td>\n",
    "\t\t\t<td>370</td>\n",
    "\t\t\t<td>119</td>\n",
    "\t\t\t<td>0</td>\n",
    "\t\t\t<td>250</td>\n",
    "\t\t\t<td>54</td>\n",
    "\t\t\t<td>0</td>\n",
    "\t\t\t<td>374</td>\n",
    "\t\t\t<td>0</td>\n",
    "\t\t</tr>\n",
    "\t\t<tr>\n",
    "\t\t\t<th>2019-11</th>\n",
    "\t\t\t<td>2</td>\n",
    "\t\t\t<td>0</td>\n",
    "\t\t\t<td>917</td>\n",
    "\t\t\t<td>0</td>\n",
    "\t\t\t<td>262</td>\n",
    "\t\t\t<td>1045</td>\n",
    "\t\t\t<td>233</td>\n",
    "\t\t\t<td>1506</td>\n",
    "\t\t\t<td>2453</td>\n",
    "\t\t\t<td>337</td>\n",
    "\t\t\t<td>435</td>\n",
    "\t\t\t<td>0</td>\n",
    "\t\t\t<td>142</td>\n",
    "\t\t\t<td>330</td>\n",
    "\t\t\t<td>0</td>\n",
    "\t\t\t<td>196</td>\n",
    "\t\t\t<td>0</td>\n",
    "\t\t</tr>\n",
    "\t\t<tr>\n",
    "\t\t\t<th>2019-12</th>\n",
    "\t\t\t<td>4</td>\n",
    "\t\t\t<td>0</td>\n",
    "\t\t\t<td>753</td>\n",
    "\t\t\t<td>0</td>\n",
    "\t\t\t<td>290</td>\n",
    "\t\t\t<td>969</td>\n",
    "\t\t\t<td>181</td>\n",
    "\t\t\t<td>1167</td>\n",
    "\t\t\t<td>3851</td>\n",
    "\t\t\t<td>429</td>\n",
    "\t\t\t<td>924</td>\n",
    "\t\t\t<td>0</td>\n",
    "\t\t\t<td>125</td>\n",
    "\t\t\t<td>209</td>\n",
    "\t\t\t<td>0</td>\n",
    "\t\t\t<td>235</td>\n",
    "\t\t\t<td>0</td>\n",
    "\t\t</tr>\n",
    "\t\t<tr>\n",
    "\t\t\t<th>2020-01</th>\n",
    "\t\t\t<td>0</td>\n",
    "\t\t\t<td>0</td>\n",
    "\t\t\t<td>1041</td>\n",
    "\t\t\t<td>0</td>\n",
    "\t\t\t<td>589</td>\n",
    "\t\t\t<td>1901</td>\n",
    "\t\t\t<td>399</td>\n",
    "\t\t\t<td>2397</td>\n",
    "\t\t\t<td>5648</td>\n",
    "\t\t\t<td>789</td>\n",
    "\t\t\t<td>763</td>\n",
    "\t\t\t<td>0</td>\n",
    "\t\t\t<td>185</td>\n",
    "\t\t\t<td>230</td>\n",
    "\t\t\t<td>0</td>\n",
    "\t\t\t<td>466</td>\n",
    "\t\t\t<td>29</td>\n",
    "\t\t</tr>\n",
    "\t\t<tr>\n",
    "\t\t\t<th>2020-02</th>\n",
    "\t\t\t<td>0</td>\n",
    "\t\t\t<td>0</td>\n",
    "\t\t\t<td>1513</td>\n",
    "\t\t\t<td>0</td>\n",
    "\t\t\t<td>794</td>\n",
    "\t\t\t<td>2294</td>\n",
    "\t\t\t<td>345</td>\n",
    "\t\t\t<td>1973</td>\n",
    "\t\t\t<td>3184</td>\n",
    "\t\t\t<td>556</td>\n",
    "\t\t\t<td>480</td>\n",
    "\t\t\t<td>24</td>\n",
    "\t\t\t<td>313</td>\n",
    "\t\t\t<td>135</td>\n",
    "\t\t\t<td>39</td>\n",
    "\t\t\t<td>494</td>\n",
    "\t\t\t<td>32</td>\n",
    "\t\t</tr>\n",
    "\t\t<tr>\n",
    "\t\t\t<th>2020-03</th>\n",
    "\t\t\t<td>0</td>\n",
    "\t\t\t<td>0</td>\n",
    "\t\t\t<td>3419</td>\n",
    "\t\t\t<td>9</td>\n",
    "\t\t\t<td>1135</td>\n",
    "\t\t\t<td>3394</td>\n",
    "\t\t\t<td>1287</td>\n",
    "\t\t\t<td>3298</td>\n",
    "\t\t\t<td>5816</td>\n",
    "\t\t\t<td>722</td>\n",
    "\t\t\t<td>440</td>\n",
    "\t\t\t<td>10</td>\n",
    "\t\t\t<td>589</td>\n",
    "\t\t\t<td>588</td>\n",
    "\t\t\t<td>486</td>\n",
    "\t\t\t<td>1266</td>\n",
    "\t\t\t<td>166</td>\n",
    "\t\t</tr>\n",
    "\t\t<tr>\n",
    "\t\t\t<th>2020-04</th>\n",
    "\t\t\t<td>0</td>\n",
    "\t\t\t<td>10</td>\n",
    "\t\t\t<td>1218</td>\n",
    "\t\t\t<td>0</td>\n",
    "\t\t\t<td>663</td>\n",
    "\t\t\t<td>2324</td>\n",
    "\t\t\t<td>511</td>\n",
    "\t\t\t<td>1671</td>\n",
    "\t\t\t<td>6458</td>\n",
    "\t\t\t<td>726</td>\n",
    "\t\t\t<td>403</td>\n",
    "\t\t\t<td>14</td>\n",
    "\t\t\t<td>181</td>\n",
    "\t\t\t<td>346</td>\n",
    "\t\t\t<td>203</td>\n",
    "\t\t\t<td>1190</td>\n",
    "\t\t\t<td>92</td>\n",
    "\t\t</tr>\n",
    "\t\t<tr>\n",
    "\t\t\t<th>2020-05</th>\n",
    "\t\t\t<td>0</td>\n",
    "\t\t\t<td>4</td>\n",
    "\t\t\t<td>666</td>\n",
    "\t\t\t<td>4</td>\n",
    "\t\t\t<td>495</td>\n",
    "\t\t\t<td>1562</td>\n",
    "\t\t\t<td>564</td>\n",
    "\t\t\t<td>1237</td>\n",
    "\t\t\t<td>3306</td>\n",
    "\t\t\t<td>284</td>\n",
    "\t\t\t<td>130</td>\n",
    "\t\t\t<td>4</td>\n",
    "\t\t\t<td>135</td>\n",
    "\t\t\t<td>308</td>\n",
    "\t\t\t<td>145</td>\n",
    "\t\t\t<td>567</td>\n",
    "\t\t\t<td>35</td>\n",
    "\t\t</tr>\n",
    "\t</tbody>\n",
    "</table>"
   ]
  },
  {
   "cell_type": "code",
   "execution_count": null,
   "metadata": {},
   "outputs": [],
   "source": [
    "# Write your code here!"
   ]
  },
  {
   "cell_type": "markdown",
   "metadata": {},
   "source": [
    "## 제출\n",
    "\n",
    "과제를 다 끝내셨으면 http://bit.ly/ds-assignment 에서 안내에 따라 과제를 제출하여 주세요! 과제를 제출해주시면 솔루션과 검토 결과를 드립니다. 오프라인 수업의 경우 과제를 제출하지 않으시더라도 솔루션은 다음 수업 시간에 제공해드립니다.\n",
    "\n",
    "수업이나 과제 관련 질문, 수료증 문의 등은 담당 튜터(조교)에게 문의 주세요. 영수증 발급 등의 문의는 support@dsschool.co.kr 로 메일 주시면 담당자분이 응대해주실 겁니다. 기타 궁금한 사항은 슬랙으로 문의 주세요!"
   ]
  },
  {
   "cell_type": "code",
   "execution_count": null,
   "metadata": {},
   "outputs": [],
   "source": []
  }
 ],
 "metadata": {
  "kernelspec": {
   "display_name": "Python 3",
   "language": "python",
   "name": "python3"
  },
  "language_info": {
   "codemirror_mode": {
    "name": "ipython",
    "version": 3
   },
   "file_extension": ".py",
   "mimetype": "text/x-python",
   "name": "python",
   "nbconvert_exporter": "python",
   "pygments_lexer": "ipython3",
   "version": "3.8.2"
  }
 },
 "nbformat": 4,
 "nbformat_minor": 2
}